{
 "cells": [
  {
   "cell_type": "markdown",
   "id": "aba974bb",
   "metadata": {},
   "source": [
    "# Лабараторная работа 1\n",
    "Вариант 11\n",
    "\n",
    "#### **Цель работы:**\n",
    "Научиться реализовывать один из алгоритмов глубокого обучения.\n",
    "\n",
    "#### **Задание:**\n",
    "1. Скачайте датасет [CarDatasets](https://drive.google.com/drive/folders/1pkudEBabqbXMxRTgfGQs3e0VqfTjtqWU)\n",
    "2. Реализуйте ResNet-101 с оптимизатором [Adabound](https://arxiv.org/abs/1902.09843v1) с использованием\n",
    "Numpy и с **Torch**/Tensorflow/Jax\n",
    "3. Оцените качество модели на тесте и сравните быстродействие\n",
    "реализованных вариантов.\n",
    "4. Запустить обучение на классическом Adam и сравнить сходимость\n",
    "результатов с вариантом задания.\n",
    "5. Сделайте отчёт в виде readme на GitHub, там же должен быть выложен\n",
    "исходный код.\n",
    "\n",
    "#### **Отчёт должен содержать следующие пункты:**\n",
    "1. Теоретическая база\n",
    "2. Описание разработанной системы (алгоритмы, принципы работы,\n",
    "архитектура)\n",
    "3. Результаты работы и тестирования системы (скриншоты, изображения,\n",
    "графики, закономерности)\n",
    "4. Выводы по работе\n",
    "5. Использованные источники\n",
    "\n",
    "План:\n",
    "1. Получить Dataloader, возвращающий обрезанное в соответствии с annotations изображение, убедиться, что тензор корректно конвертируется в numpy\n",
    "2. Загрузить и запустить готовый resnet101. Хотя, скорее всего, это не пригодится. Запустить на нём обучение\n",
    "3. Имплементировать на torch\n",
    "4. Имплементирвать на numpy\n"
   ]
  },
  {
   "cell_type": "code",
   "execution_count": 8,
   "id": "23c937fc",
   "metadata": {},
   "outputs": [],
   "source": [
    "import scipy.io\n",
    "import numpy as np\n",
    "import torch\n",
    "import torchvision"
   ]
  },
  {
   "cell_type": "code",
   "execution_count": 2,
   "id": "7a287ebc",
   "metadata": {},
   "outputs": [],
   "source": [
    "model = torchvision.models.resnet101()"
   ]
  },
  {
   "cell_type": "code",
   "execution_count": 3,
   "id": "dc529cb4",
   "metadata": {},
   "outputs": [],
   "source": [
    "lr_loc = r'C:\\Users\\SystemPoint\\Downloads\\LR1-1'"
   ]
  },
  {
   "cell_type": "code",
   "execution_count": 4,
   "id": "85bfae2b",
   "metadata": {},
   "outputs": [
    {
     "data": {
      "text/plain": [
       "array(['AM General Hummer SUV 2000', 'Acura RL Sedan 2012',\n",
       "       'Acura TL Sedan 2012', 'Acura TL Type-S 2008'], dtype=object)"
      ]
     },
     "execution_count": 4,
     "metadata": {},
     "output_type": "execute_result"
    }
   ],
   "source": [
    "# get a list of class names\n",
    "meta = scipy.io.loadmat(lr_loc+'\\cars_meta.mat', squeeze_me = True)\n",
    "class_names = meta['class_names']\n",
    "class_names[:4]"
   ]
  },
  {
   "cell_type": "code",
   "execution_count": 5,
   "id": "6a1caf32",
   "metadata": {},
   "outputs": [
    {
     "data": {
      "text/plain": [
       "array([(39, 116, 569, 375, 14, '00001.jpg'),\n",
       "       (36, 116, 868, 587, 3, '00002.jpg'),\n",
       "       (85, 109, 601, 381, 91, '00003.jpg'), ...,\n",
       "       (26, 246, 660, 449, 163, '08142.jpg'),\n",
       "       (78, 526, 1489, 908, 112, '08143.jpg'),\n",
       "       (20, 240, 862, 677, 17, '08144.jpg')],\n",
       "      dtype=[('bbox_x1', 'O'), ('bbox_y1', 'O'), ('bbox_x2', 'O'), ('bbox_y2', 'O'), ('class', 'O'), ('fname', 'O')])"
      ]
     },
     "execution_count": 5,
     "metadata": {},
     "output_type": "execute_result"
    }
   ],
   "source": [
    "train_annos = scipy.io.loadmat(lr_loc+'\\cars_train_annos.mat', squeeze_me = True)\n",
    "train_annos['annotations']"
   ]
  },
  {
   "cell_type": "code",
   "execution_count": 6,
   "id": "27ea94b5",
   "metadata": {},
   "outputs": [
    {
     "data": {
      "text/plain": [
       "array([(39, 116, 569, 375, 14, '00001.jpg'),\n",
       "       (36, 116, 868, 587, 3, '00002.jpg'),\n",
       "       (85, 109, 601, 381, 91, '00003.jpg'), ...,\n",
       "       (26, 246, 660, 449, 163, '08142.jpg'),\n",
       "       (78, 526, 1489, 908, 112, '08143.jpg'),\n",
       "       (20, 240, 862, 677, 17, '08144.jpg')],\n",
       "      dtype=[('bbox_x1', 'O'), ('bbox_y1', 'O'), ('bbox_x2', 'O'), ('bbox_y2', 'O'), ('class', 'O'), ('fname', 'O')])"
      ]
     },
     "execution_count": 6,
     "metadata": {},
     "output_type": "execute_result"
    }
   ],
   "source": [
    "test_annos = scipy.io.loadmat(lr_loc+'\\cars_test_annos.mat', squeeze_me = True)\n",
    "train_annos['annotations']"
   ]
  }
 ],
 "metadata": {
  "kernelspec": {
   "display_name": "Python 3 (ipykernel)",
   "language": "python",
   "name": "python3"
  },
  "language_info": {
   "codemirror_mode": {
    "name": "ipython",
    "version": 3
   },
   "file_extension": ".py",
   "mimetype": "text/x-python",
   "name": "python",
   "nbconvert_exporter": "python",
   "pygments_lexer": "ipython3",
   "version": "3.10.4"
  }
 },
 "nbformat": 4,
 "nbformat_minor": 5
}
