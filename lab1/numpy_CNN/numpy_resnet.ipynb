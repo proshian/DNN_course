{
 "cells": [
  {
   "cell_type": "code",
   "execution_count": 1,
   "id": "59a56421",
   "metadata": {},
   "outputs": [],
   "source": [
    "import pickle\n",
    "\n",
    "import numpy as np\n",
    "from keras.datasets import mnist\n",
    "from sklearn.model_selection import train_test_split\n",
    "from sklearn.metrics import f1_score\n",
    "import matplotlib.pyplot as plt\n",
    "from tqdm import tqdm\n",
    "\n",
    "from NumpyNN.NN_np import (\n",
    "    FullyConnectedLayer,\n",
    "    ReLULayer,\n",
    "    SigmoidLayer,\n",
    "    ReLULayer,\n",
    "    AdamOptimizer,\n",
    "    CrossEntropyLoss,\n",
    "    LinearActivation,\n",
    "    Sequential,\n",
    "    Optimizer,\n",
    "    SoftMaxLayer,\n",
    "    GradientDescentOptimizer,\n",
    "    CrossEntropyLossWithSoftMax,\n",
    "    softmax,\n",
    "    Conv2d,\n",
    "    Flatten\n",
    ")"
   ]
  },
  {
   "cell_type": "code",
   "execution_count": 2,
   "id": "c2bfd8b8",
   "metadata": {},
   "outputs": [
    {
     "data": {
      "text/plain": [
       "<Figure size 432x288 with 0 Axes>"
      ]
     },
     "metadata": {},
     "output_type": "display_data"
    }
   ],
   "source": [
    "plt.gray()"
   ]
  },
  {
   "cell_type": "code",
   "execution_count": 3,
   "id": "d4226061",
   "metadata": {},
   "outputs": [],
   "source": [
    "from numpy_resnet import resnet101"
   ]
  },
  {
   "cell_type": "code",
   "execution_count": 4,
   "id": "6ebb2342",
   "metadata": {},
   "outputs": [],
   "source": [
    "def one_hot(y: np.ndarray, n_classes: int):\n",
    "    encoded = np.zeros((y.size, n_classes))\n",
    "    encoded[np.arange(y.size), y] = 1\n",
    "    return encoded"
   ]
  },
  {
   "cell_type": "code",
   "execution_count": 5,
   "id": "c6d3cbe5",
   "metadata": {},
   "outputs": [],
   "source": [
    "def padding(X, pad):\n",
    "    batch_size, channels, h, w = X.shape\n",
    "    out = np.zeros((batch_size, channels, h + 2 * pad, w + 2 * pad))\n",
    "    out[:, :, pad:pad + h, pad:pad + w] = X\n",
    "    return out"
   ]
  },
  {
   "cell_type": "code",
   "execution_count": 6,
   "id": "fb42decb",
   "metadata": {},
   "outputs": [],
   "source": [
    "((X_train, y_train), (X_test, y_test)) = mnist.load_data()\n",
    "\n",
    "X_train = padding(X_train.reshape(-1, 1, 28, 28), 2).astype(np.float32)\n",
    "X_test = padding(X_test.reshape(-1, 1, 28, 28), 2).astype(np.float32)\n",
    "y_train = one_hot(y_train, 10)\n",
    "y_test = one_hot(y_test, 10)"
   ]
  },
  {
   "cell_type": "code",
   "execution_count": 7,
   "id": "a65c5ad2",
   "metadata": {},
   "outputs": [
    {
     "data": {
      "text/plain": [
       "((60000, 10), (60000, 1, 32, 32))"
      ]
     },
     "execution_count": 7,
     "metadata": {},
     "output_type": "execute_result"
    }
   ],
   "source": [
    "y_train.shape, X_train.shape"
   ]
  },
  {
   "cell_type": "code",
   "execution_count": 8,
   "id": "fbe5ee04",
   "metadata": {},
   "outputs": [
    {
     "data": {
      "text/plain": [
       "<matplotlib.image.AxesImage at 0x1e670d6c580>"
      ]
     },
     "execution_count": 8,
     "metadata": {},
     "output_type": "execute_result"
    },
    {
     "data": {
      "image/png": "[encoded data removed]",
      "text/plain": [
       "<Figure size 432x288 with 1 Axes>"
      ]
     },
     "metadata": {
      "needs_background": "light"
     },
     "output_type": "display_data"
    }
   ],
   "source": [
    "plt.title(f\"true label: {np.argmax(y_train[0])}\")\n",
    "plt.imshow(X_train[0].reshape(32, 32))"
   ]
  },
  {
   "cell_type": "code",
   "execution_count": 9,
   "id": "c452a511",
   "metadata": {},
   "outputs": [],
   "source": [
    "# The history is calculated for batches in implementation below\n",
    "\n",
    "def train(model, X_train: np.ndarray, y_train: np.ndarray, X_test: np.ndarray, y_test: np.ndarray,\n",
    "          optimizer: Optimizer, loss, epochs: int, batch_size: int):\n",
    "\n",
    "    metric_names = ['loss', 'accuracy', 'f1_score']\n",
    "    history = {phase_name: {\"batch-\"+metric_name: [] for metric_name in metric_names} for phase_name in ['train', 'test']}\n",
    "    \n",
    "    for i in range(epochs):\n",
    "        for phase in ['train', 'test']:\n",
    "            if phase == 'train':\n",
    "                X, y = X_train, y_train\n",
    "            elif phase == 'test':\n",
    "                X, y = X_test, y_test\n",
    "            \n",
    "            print(phase)\n",
    "            epoch_loss = 0\n",
    "            \n",
    "            all_true_y = []\n",
    "            all_pred_y = []\n",
    "            \n",
    "            batch_pbar = tqdm(range(0, X.shape[0], batch_size))\n",
    "            \n",
    "            for j in batch_pbar:\n",
    "                # print(f\"epoch {i} batch {j}\")\n",
    "                X_b, y_b = X[j:j+batch_size], y[j:j+batch_size]\n",
    "                y_pred = model.forward(X_b)\n",
    "                loss_val = loss.forward(y_pred, y_b)\n",
    "\n",
    "                y_pred_label_b = np.argmax(y_pred, axis=1)\n",
    "                y_true_label_b = np.argmax(y_b, axis=1)\n",
    "\n",
    "                history[phase]['batch-accuracy'].append(np.mean(np.array(y_pred_label_b) == np.array(y_true_label_b)))\n",
    "                history[phase]['batch-loss'].append(loss_val)\n",
    "                history[phase]['batch-f1_score'].append(f1_score(y_pred_label_b, y_true_label_b, average='macro'))\n",
    "                \n",
    "                all_pred_y.extend(y_pred_label_b)\n",
    "                all_true_y.extend(y_true_label_b)\n",
    "                epoch_loss += loss_val\n",
    "\n",
    "                if phase == 'train':\n",
    "                    loss_gradient = loss.backward()\n",
    "                    model.backward(loss_gradient)\n",
    "                    optimizer.step()\n",
    "                \n",
    "                progress_string = \"batch: \"\n",
    "                for metric_name in metric_names:\n",
    "                    bmn = 'batch-' + metric_name\n",
    "                    progress_string+=f\"{metric_name}: {history[phase][bmn][-1]:.2f}  \"\n",
    "                batch_pbar.set_description(progress_string)\n",
    "                \n",
    "            epoch_accuracy = np.mean(np.array(all_pred_y) == np.array(all_true_y))\n",
    "            epoch_f_score = f1_score(all_pred_y, all_true_y, average='macro')\n",
    "            print(f\"epoch metrics: loss = {epoch_loss:.2f}, accuracy = {epoch_accuracy:.2f}, f score = {epoch_f_score:.2f}\")\n",
    "            \n",
    "            \n",
    "            \n",
    "            history_name = 'numpy_resnet_history.pickle'\n",
    "\n",
    "            with open(history_name, 'wb') as f:\n",
    "                pickle.dump(history, f)\n",
    "\n",
    "            # with open(history_name, 'rb') as f:\n",
    "            #     history = pickle.load(f)\n",
    "            \n",
    "            for layer in model.trainable_layers:\n",
    "                layer.input_ = None\n",
    "            \n",
    "            model_file_name = 'numpy_resnet_1.pickle'\n",
    "\n",
    "            with open(model_file_name, 'wb') as f:\n",
    "                pickle.dump(model, f)\n",
    "            \n",
    "            adam_name = './numpy_resnet_adam.pickle'\n",
    "\n",
    "            with open(history_name, 'wb') as f:\n",
    "                pickle.dump(optimizer, f)\n",
    "            \n",
    "        \n",
    "    return history"
   ]
  },
  {
   "cell_type": "code",
   "execution_count": 9,
   "id": "f65ec9bc",
   "metadata": {},
   "outputs": [],
   "source": [
    "# The history is calculated for the whole epoch in implementation below\n",
    "\n",
    "def train(model, X_train: np.ndarray, y_train: np.ndarray, X_test: np.ndarray, y_test: np.ndarray,\n",
    "          optimizer: Optimizer, loss, epochs: int, batch_size: int):\n",
    "\n",
    "    metric_names = ['loss', 'accuracy', 'f1_score']\n",
    "    history = {phase_name: {metric_name: [] for metric_name in metric_names} for phase_name in ['train', 'test']}\n",
    "\n",
    "    for i in range(epochs):\n",
    "        for phase in ['train', 'test']:\n",
    "            y_pred_labels = []\n",
    "            y_true_labels = []\n",
    "            epoch_loss = 0\n",
    "            if phase == 'train':\n",
    "                X, y = X_train, y_train\n",
    "            elif phase == 'test':\n",
    "                X, y = X_test, y_test\n",
    "            for j in tqdm(range(0, X.shape[0], batch_size)):\n",
    "                X_b = X[j:j+batch_size]\n",
    "                y_b = y[j:j+batch_size]\n",
    "                y_pred = model.forward(X_b)\n",
    "                loss_val = loss.forward(y_pred, y_b)\n",
    "\n",
    "                y_pred_label_b = np.argmax(y_pred, axis=1)\n",
    "                y_true_label_b = np.argmax(y_b, axis=1)\n",
    "\n",
    "                epoch_loss += loss_val.item()\n",
    "                y_pred_labels.extend(y_pred_label_b)\n",
    "                y_true_labels.extend(y_true_label_b)\n",
    "\n",
    "                if phase == 'train':\n",
    "                    loss_gradient = loss.backward()\n",
    "                    model.backward(loss_gradient)\n",
    "                    optimizer.step()\n",
    "\n",
    "            history[phase]['accuracy'].append(np.mean(np.array(y_pred_labels) == np.array(y_true_labels)))\n",
    "            history[phase]['loss'].append(loss_val)\n",
    "            history[phase]['f1_score'].append(f1_score(y_pred_labels, y_true_labels, average='macro'))\n",
    "\n",
    "            \n",
    "    return history"
   ]
  },
  {
   "cell_type": "code",
   "execution_count": 9,
   "id": "469179d5",
   "metadata": {},
   "outputs": [],
   "source": [
    "# Conv2d.backward = Conv2d.backward_as_mat_mul_unified"
   ]
  },
  {
   "cell_type": "code",
   "execution_count": 10,
   "id": "d1ee6bb4",
   "metadata": {},
   "outputs": [
    {
     "name": "stderr",
     "output_type": "stream",
     "text": [
      "  0%|          | 3/5000 [00:31<14:27:16, 10.41s/it]\n"
     ]
    },
    {
     "ename": "KeyboardInterrupt",
     "evalue": "",
     "output_type": "error",
     "traceback": [
      "\u001b[1;31m---------------------------------------------------------------------------\u001b[0m",
      "\u001b[1;31mKeyboardInterrupt\u001b[0m                         Traceback (most recent call last)",
      "\u001b[1;32mc:\\Users\\SystemPoint\\Documents\\GitHub\\DNN_course_ITMO_2022\\lab1\\numpy_CNN\\numpy_resnet.ipynb Cell 12\u001b[0m in \u001b[0;36m<cell line: 9>\u001b[1;34m()\u001b[0m\n\u001b[0;32m      <a href='vscode-notebook-cell:/c%3A/Users/SystemPoint/Documents/GitHub/DNN_course_ITMO_2022/lab1/numpy_CNN/numpy_resnet.ipynb#X14sZmlsZQ%3D%3D?line=5'>6</a>\u001b[0m optimizer \u001b[39m=\u001b[39m AdamOptimizer(model\u001b[39m.\u001b[39mtrainable_layers, learning_rate \u001b[39m=\u001b[39m \u001b[39m1e-3\u001b[39m)\n\u001b[0;32m      <a href='vscode-notebook-cell:/c%3A/Users/SystemPoint/Documents/GitHub/DNN_course_ITMO_2022/lab1/numpy_CNN/numpy_resnet.ipynb#X14sZmlsZQ%3D%3D?line=6'>7</a>\u001b[0m loss \u001b[39m=\u001b[39m CrossEntropyLossWithSoftMax()\n\u001b[1;32m----> <a href='vscode-notebook-cell:/c%3A/Users/SystemPoint/Documents/GitHub/DNN_course_ITMO_2022/lab1/numpy_CNN/numpy_resnet.ipynb#X14sZmlsZQ%3D%3D?line=8'>9</a>\u001b[0m history \u001b[39m=\u001b[39m train(model, X_train[:\u001b[39m5000\u001b[39;49m], y_train[:\u001b[39m5000\u001b[39;49m], X_test[:\u001b[39m1000\u001b[39;49m], y_test[:\u001b[39m1000\u001b[39;49m], optimizer, loss, epochs, batch_size)\n",
      "\u001b[1;32mc:\\Users\\SystemPoint\\Documents\\GitHub\\DNN_course_ITMO_2022\\lab1\\numpy_CNN\\numpy_resnet.ipynb Cell 12\u001b[0m in \u001b[0;36mtrain\u001b[1;34m(model, X_train, y_train, X_test, y_test, optimizer, loss, epochs, batch_size)\u001b[0m\n\u001b[0;32m     <a href='vscode-notebook-cell:/c%3A/Users/SystemPoint/Documents/GitHub/DNN_course_ITMO_2022/lab1/numpy_CNN/numpy_resnet.ipynb#X14sZmlsZQ%3D%3D?line=18'>19</a>\u001b[0m loss_gradient \u001b[39m=\u001b[39m loss\u001b[39m.\u001b[39mbackward()\n\u001b[0;32m     <a href='vscode-notebook-cell:/c%3A/Users/SystemPoint/Documents/GitHub/DNN_course_ITMO_2022/lab1/numpy_CNN/numpy_resnet.ipynb#X14sZmlsZQ%3D%3D?line=19'>20</a>\u001b[0m model\u001b[39m.\u001b[39mbackward(loss_gradient)\n\u001b[1;32m---> <a href='vscode-notebook-cell:/c%3A/Users/SystemPoint/Documents/GitHub/DNN_course_ITMO_2022/lab1/numpy_CNN/numpy_resnet.ipynb#X14sZmlsZQ%3D%3D?line=20'>21</a>\u001b[0m optimizer\u001b[39m.\u001b[39;49mstep()\n\u001b[0;32m     <a href='vscode-notebook-cell:/c%3A/Users/SystemPoint/Documents/GitHub/DNN_course_ITMO_2022/lab1/numpy_CNN/numpy_resnet.ipynb#X14sZmlsZQ%3D%3D?line=22'>23</a>\u001b[0m y_pred_label_b \u001b[39m=\u001b[39m np\u001b[39m.\u001b[39margmax(y_pred, axis\u001b[39m=\u001b[39m\u001b[39m1\u001b[39m)\n\u001b[0;32m     <a href='vscode-notebook-cell:/c%3A/Users/SystemPoint/Documents/GitHub/DNN_course_ITMO_2022/lab1/numpy_CNN/numpy_resnet.ipynb#X14sZmlsZQ%3D%3D?line=23'>24</a>\u001b[0m y_true_label_b \u001b[39m=\u001b[39m np\u001b[39m.\u001b[39margmax(y_b_train, axis\u001b[39m=\u001b[39m\u001b[39m1\u001b[39m)\n",
      "File \u001b[1;32mc:\\Users\\SystemPoint\\Documents\\GitHub\\DNN_course_ITMO_2022\\lab1\\numpy_CNN\\NumpyNN\\NN_np.py:600\u001b[0m, in \u001b[0;36mAdamOptimizer.step\u001b[1;34m(self)\u001b[0m\n\u001b[0;32m    596\u001b[0m \u001b[39mfor\u001b[39;00m layer \u001b[39min\u001b[39;00m \u001b[39mself\u001b[39m\u001b[39m.\u001b[39mtrainable_layers:\n\u001b[0;32m    597\u001b[0m     \u001b[39m#! Since np arrays are passed by reference the weights and bias\u001b[39;00m\n\u001b[0;32m    598\u001b[0m     \u001b[39m# layer properties are going to be properly updated.\u001b[39;00m\n\u001b[0;32m    599\u001b[0m     \u001b[39mfor\u001b[39;00m parameter, gradient, cache_id \u001b[39min\u001b[39;00m layer\u001b[39m.\u001b[39mget_parameters_and_gradients_and_ids():\n\u001b[1;32m--> 600\u001b[0m         \u001b[39mself\u001b[39;49m\u001b[39m.\u001b[39;49mupdate(gradient, cache_id)\n\u001b[0;32m    601\u001b[0m         parameter \u001b[39m-\u001b[39m\u001b[39m=\u001b[39m \u001b[39mself\u001b[39m\u001b[39m.\u001b[39mlearning_rate \u001b[39m*\u001b[39m \u001b[39mself\u001b[39m\u001b[39m.\u001b[39mm[cache_id] \u001b[39m/\u001b[39m (np\u001b[39m.\u001b[39msqrt(\u001b[39mself\u001b[39m\u001b[39m.\u001b[39mv[cache_id]) \u001b[39m+\u001b[39m \u001b[39mself\u001b[39m\u001b[39m.\u001b[39mepsilon)\n\u001b[0;32m    602\u001b[0m \u001b[39mself\u001b[39m\u001b[39m.\u001b[39mt \u001b[39m+\u001b[39m\u001b[39m=\u001b[39m \u001b[39m1\u001b[39m\n",
      "\u001b[1;31mKeyboardInterrupt\u001b[0m: "
     ]
    }
   ],
   "source": [
    "epochs = 1\n",
    "batch_size = 1\n",
    "\n",
    "model = resnet101(10, 1)\n",
    "# optimizer = GradientDescentOptimizer(model.trainable_layers, learning_rate = 1e-3)\n",
    "optimizer = AdamOptimizer(model.trainable_layers, learning_rate = 1e-3)\n",
    "loss = CrossEntropyLossWithSoftMax()\n",
    "\n",
    "history = train(model, X_train[:5000], y_train[:5000], X_test[:1000], y_test[:1000], optimizer, loss, epochs, batch_size)"
   ]
  },
  {
   "cell_type": "code",
   "execution_count": null,
   "id": "e67b6c1d",
   "metadata": {},
   "outputs": [],
   "source": [
    "\"\"\"\n",
    "history2 = train(model, X_train, y_train, X_test, y_test, optimizer, loss, 20, batch_size)\n",
    "for key in history['train']:\n",
    "    history['train'][key].extend(history2['train'][key])\n",
    "\"\"\""
   ]
  },
  {
   "cell_type": "code",
   "execution_count": 10,
   "id": "890ad2cd",
   "metadata": {},
   "outputs": [
    {
     "data": {
      "text/plain": [
       "0.0008892841030677987"
      ]
     },
     "execution_count": 10,
     "metadata": {},
     "output_type": "execute_result"
    }
   ],
   "source": [
    "a = list(set(abs(model.trainable_layers[1].weights_gradient.flatten())))\n",
    "np.mean(a)"
   ]
  },
  {
   "cell_type": "code",
   "execution_count": 11,
   "id": "7ed8a543",
   "metadata": {},
   "outputs": [
    {
     "data": {
      "text/plain": [
       "0.04045056523644971"
      ]
     },
     "execution_count": 11,
     "metadata": {},
     "output_type": "execute_result"
    }
   ],
   "source": [
    "np.abs(model.trainable_layers[0].weights_gradient.flatten()).mean()"
   ]
  },
  {
   "cell_type": "code",
   "execution_count": 12,
   "id": "68aeb9a7",
   "metadata": {},
   "outputs": [
    {
     "data": {
      "image/png": "[encoded data removed]",
      "text/plain": [
       "<Figure size 432x288 with 1 Axes>"
      ]
     },
     "metadata": {
      "needs_background": "light"
     },
     "output_type": "display_data"
    },
    {
     "data": {
      "image/png": "[encoded data removed]",
      "text/plain": [
       "<Figure size 432x288 with 1 Axes>"
      ]
     },
     "metadata": {
      "needs_background": "light"
     },
     "output_type": "display_data"
    },
    {
     "data": {
      "image/png": "[encoded data removed]",
      "text/plain": [
       "<Figure size 432x288 with 1 Axes>"
      ]
     },
     "metadata": {
      "needs_background": "light"
     },
     "output_type": "display_data"
    }
   ],
   "source": [
    "for key, value in history['train'].items():\n",
    "    if key in ['weights_data', 'mean_trainable_layers']:\n",
    "        continue\n",
    "    plt.plot(value)\n",
    "    plt.title(key)\n",
    "    plt.show()"
   ]
  },
  {
   "cell_type": "code",
   "execution_count": 13,
   "id": "05f0d699",
   "metadata": {},
   "outputs": [
    {
     "data": {
      "image/png": "[encoded data removed]",
      "text/plain": [
       "<Figure size 432x288 with 1 Axes>"
      ]
     },
     "metadata": {
      "needs_background": "light"
     },
     "output_type": "display_data"
    },
    {
     "data": {
      "image/png": "[encoded data removed]",
      "text/plain": [
       "<Figure size 432x288 with 1 Axes>"
      ]
     },
     "metadata": {
      "needs_background": "light"
     },
     "output_type": "display_data"
    },
    {
     "data": {
      "image/png": "[encoded data removed]",
      "text/plain": [
       "<Figure size 432x288 with 1 Axes>"
      ]
     },
     "metadata": {
      "needs_background": "light"
     },
     "output_type": "display_data"
    },
    {
     "data": {
      "image/png": "[encoded data removed]",
      "text/plain": [
       "<Figure size 432x288 with 1 Axes>"
      ]
     },
     "metadata": {
      "needs_background": "light"
     },
     "output_type": "display_data"
    },
    {
     "data": {
      "image/png": "[encoded data removed]",
      "text/plain": [
       "<Figure size 432x288 with 1 Axes>"
      ]
     },
     "metadata": {
      "needs_background": "light"
     },
     "output_type": "display_data"
    }
   ],
   "source": [
    "for i in range(5):\n",
    "    probs_i = softmax(model.forward(X_train[i].reshape(1, 1, 28, 28)))\n",
    "    plt.title(f\"true label: {np.argmax(y_train[i])}\\n predicted label: {np.argmax(probs_i)}\")\n",
    "    plt.imshow(X_train[i].reshape(28, 28))\n",
    "    plt.show()"
   ]
  },
  {
   "cell_type": "code",
   "execution_count": null,
   "id": "0b3e0c51",
   "metadata": {},
   "outputs": [
    {
     "data": {
      "text/plain": [
       "'\\ndef train(model, X: np.ndarray, y: np.ndarray, optimizer: Optimizer, loss, epochs: int, batch_size: int = 32, verbose: bool = True):\\n    for epoch in range(epochs):\\n        for X_batch, y_batch in get_batches(X, y, batch_size):\\n            y_pred = model.forward(X_batch)\\n            loss_gradient = loss.gradient(y_batch, y_pred)\\n            model.backward(loss_gradient)\\n            optimizer.step()\\n        if verbose:\\n            print(f\"Epoch {epoch + 1}/{epochs} loss: {loss(y_batch, y_pred)}\")\\n'"
      ]
     },
     "execution_count": 24,
     "metadata": {},
     "output_type": "execute_result"
    }
   ],
   "source": [
    "\"\"\"\n",
    "def train(model, X: np.ndarray, y: np.ndarray, optimizer: Optimizer, loss, epochs: int, batch_size: int = 32, verbose: bool = True):\n",
    "    for epoch in range(epochs):\n",
    "        for X_batch, y_batch in get_batches(X, y, batch_size):\n",
    "            y_pred = model.forward(X_batch)\n",
    "            loss_gradient = loss.gradient(y_batch, y_pred)\n",
    "            model.backward(loss_gradient)\n",
    "            optimizer.step()\n",
    "        if verbose:\n",
    "            print(f\"Epoch {epoch + 1}/{epochs} loss: {loss(y_batch, y_pred)}\")\n",
    "\"\"\""
   ]
  },
  {
   "cell_type": "code",
   "execution_count": 7,
   "id": "0cb29b97",
   "metadata": {},
   "outputs": [
    {
     "name": "stderr",
     "output_type": "stream",
     "text": [
      "c:\\Users\\SystemPoint\\AppData\\Local\\Programs\\Python\\Python310\\lib\\site-packages\\tqdm\\auto.py:22: TqdmWarning: IProgress not found. Please update jupyter and ipywidgets. See https://ipywidgets.readthedocs.io/en/stable/user_install.html\n",
      "  from .autonotebook import tqdm as notebook_tqdm\n"
     ]
    }
   ],
   "source": [
    "import torch"
   ]
  },
  {
   "cell_type": "code",
   "execution_count": 8,
   "id": "9bab0db3",
   "metadata": {},
   "outputs": [],
   "source": [
    "X_train_torch = torch.from_numpy(X_train).float()\n",
    "y_train_torch = torch.from_numpy(y_train)\n",
    "\n",
    "X_test_torch = torch.from_numpy(X_test).float()\n",
    "y_test_torch = torch.from_numpy(y_test)\n",
    "\n",
    "def train_torch(model, X_train: torch.Tensor, y_train: torch.Tensor, X_test: torch.Tensor, y_test: torch.Tensor,\n",
    "          optimizer, loss, epochs: int, batch_size: int):\n",
    "    \n",
    "    metric_names = ['loss', 'accuracy', 'f1_score']\n",
    "    history = {phase_name: {metric_name: [] for metric_name in metric_names} for phase_name in ['train', 'test']}\n",
    "\n",
    "    for i in range(epochs):\n",
    "        for j in tqdm(range(0, X_train.shape[0], batch_size)):\n",
    "            # print(f\"epoch {i} batch {j}\")\n",
    "            X_b_train = X_train[j:j+batch_size]\n",
    "            y_b_train = y_train[j:j+batch_size]\n",
    "            y_pred = model(X_b_train)\n",
    "            loss_val = loss(y_pred, y_b_train)\n",
    "            optimizer.zero_grad()\n",
    "            loss_val.backward()\n",
    "            optimizer.step()\n",
    "\n",
    "            y_pred_label = np.argmax(y_pred.detach().numpy(), axis=1)\n",
    "            y_true_label = np.argmax(y_b_train.detach().numpy(), axis=1)\n",
    "\n",
    "            history['train']['accuracy'].append(np.mean(y_pred_label == y_true_label).item())\n",
    "            history['train']['loss'].append(loss_val.item())\n",
    "            history['train']['f1_score'].append(f1_score(y_true_label, y_pred_label, average='macro').item())\n",
    "            \n",
    "    return history"
   ]
  },
  {
   "cell_type": "code",
   "execution_count": 9,
   "id": "1f8bee91",
   "metadata": {},
   "outputs": [
    {
     "data": {
      "text/plain": [
       "array([1, 1, 1], dtype=int64)"
      ]
     },
     "execution_count": 9,
     "metadata": {},
     "output_type": "execute_result"
    }
   ],
   "source": [
    "np.argmax([[1, 2, 3], [4, 5, 6]], axis = 0)"
   ]
  },
  {
   "cell_type": "code",
   "execution_count": 10,
   "id": "4b4f4d95",
   "metadata": {},
   "outputs": [
    {
     "data": {
      "text/plain": [
       "torch.float32"
      ]
     },
     "execution_count": 10,
     "metadata": {},
     "output_type": "execute_result"
    }
   ],
   "source": [
    "X_train_torch.dtype"
   ]
  },
  {
   "cell_type": "code",
   "execution_count": 12,
   "id": "7bcd5113",
   "metadata": {},
   "outputs": [
    {
     "name": "stderr",
     "output_type": "stream",
     "text": [
      "100%|██████████| 59/59 [00:35<00:00,  1.67it/s]\n",
      "100%|██████████| 59/59 [00:38<00:00,  1.52it/s]\n",
      "100%|██████████| 59/59 [00:39<00:00,  1.49it/s]\n"
     ]
    }
   ],
   "source": [
    "in_channels = 1\n",
    "out_channels = 32\n",
    "kernel_size = 3\n",
    "stride = 1\n",
    "padding = 1\n",
    "bias = True\n",
    "\n",
    "height = X_train[0].shape[1]\n",
    "width = X_train[0].shape[2]\n",
    "\n",
    "batch_size = 1024\n",
    "epochs = 3\n",
    "\n",
    "model_torch = torch.nn.Sequential(\n",
    "    torch.nn.Conv2d(in_channels, out_channels, kernel_size, stride, padding),\n",
    "    torch.nn.ReLU(),\n",
    "    torch.nn.Flatten(), \n",
    "    torch.nn.Linear(height * width * out_channels, 10),\n",
    ")\n",
    "\n",
    "weights_data_torch = []\n",
    "\n",
    "optimizer_torch = torch.optim.Adam(model_torch.parameters(), lr=1e-3)\n",
    "\n",
    "loss_torch = torch.nn.CrossEntropyLoss()\n",
    "\n",
    "history_torch = train_torch(model_torch, X_train_torch, y_train_torch, X_test_torch, y_test_torch, optimizer_torch, loss_torch, epochs, batch_size)"
   ]
  },
  {
   "cell_type": "code",
   "execution_count": null,
   "id": "b8ba5560",
   "metadata": {},
   "outputs": [],
   "source": [
    "# list(model_torch.parameters())"
   ]
  },
  {
   "cell_type": "code",
   "execution_count": 51,
   "id": "bc9f425f",
   "metadata": {},
   "outputs": [
    {
     "data": {
      "image/png": "[encoded data removed]",
      "text/plain": [
       "<Figure size 432x288 with 1 Axes>"
      ]
     },
     "metadata": {
      "needs_background": "light"
     },
     "output_type": "display_data"
    },
    {
     "data": {
      "image/png": "[encoded data removed]",
      "text/plain": [
       "<Figure size 432x288 with 1 Axes>"
      ]
     },
     "metadata": {
      "needs_background": "light"
     },
     "output_type": "display_data"
    },
    {
     "data": {
      "image/png": "[encoded data removed]",
      "text/plain": [
       "<Figure size 432x288 with 1 Axes>"
      ]
     },
     "metadata": {
      "needs_background": "light"
     },
     "output_type": "display_data"
    }
   ],
   "source": [
    "for key, value in history_torch['train'].items():\n",
    "    plt.plot(value)\n",
    "    plt.title(key)\n",
    "    plt.show()"
   ]
  }
 ],
 "metadata": {
  "kernelspec": {
   "display_name": "Python 3",
   "language": "python",
   "name": "python3"
  },
  "language_info": {
   "codemirror_mode": {
    "name": "ipython",
    "version": 3
   },
   "file_extension": ".py",
   "mimetype": "text/x-python",
   "name": "python",
   "nbconvert_exporter": "python",
   "pygments_lexer": "ipython3",
   "version": "3.10.4 (tags/v3.10.4:9d38120, Mar 23 2022, 23:13:41) [MSC v.1929 64 bit (AMD64)]"
  },
  "vscode": {
   "interpreter": {
    "hash": "2bbf79ea567ebf64b92b9cf68f2b08a0cf8db5ff8a7f29f56d99d802810464d9"
   }
  }
 },
 "nbformat": 4,
 "nbformat_minor": 5
}
