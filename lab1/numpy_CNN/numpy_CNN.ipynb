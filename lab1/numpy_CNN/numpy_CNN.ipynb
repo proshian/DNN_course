{
 "cells": [
  {
   "cell_type": "code",
   "execution_count": 1,
   "id": "59a56421",
   "metadata": {},
   "outputs": [],
   "source": [
    "import numpy as np\n",
    "from keras.datasets import mnist\n",
    "from sklearn.model_selection import train_test_split\n",
    "from sklearn.metrics import f1_score\n",
    "import matplotlib.pyplot as plt\n",
    "\n",
    "from NumpyNN.NN_np import (\n",
    "    FullyConnectedLayer,\n",
    "    ReLULayer,\n",
    "    SigmoidLayer,\n",
    "    ReLULayer,\n",
    "    AdamOptimizer,\n",
    "    CrossEntropyLoss,\n",
    "    LinearActivation,\n",
    "    Sequential,\n",
    "    Optimizer,\n",
    "    SoftMaxLayer,\n",
    "    GradientDescentOptimizer,\n",
    "    CrossEntropyLossWithSoftMax\n",
    ")"
   ]
  },
  {
   "cell_type": "code",
   "execution_count": 2,
   "id": "c2bfd8b8",
   "metadata": {},
   "outputs": [
    {
     "data": {
      "text/plain": [
       "<Figure size 432x288 with 0 Axes>"
      ]
     },
     "metadata": {},
     "output_type": "display_data"
    }
   ],
   "source": [
    "plt.gray()"
   ]
  },
  {
   "cell_type": "code",
   "execution_count": 3,
   "id": "6ebb2342",
   "metadata": {},
   "outputs": [],
   "source": [
    "def one_hot(y: np.ndarray, n_classes: int):\n",
    "    encoded = np.zeros((y.size, n_classes))\n",
    "    encoded[np.arange(y.size), y] = 1\n",
    "    return encoded"
   ]
  },
  {
   "cell_type": "code",
   "execution_count": 4,
   "id": "fb42decb",
   "metadata": {},
   "outputs": [],
   "source": [
    "((X_train, y_train), (X_test, y_test)) = mnist.load_data()\n",
    "\n",
    "X_train = X_train.reshape(-1, 28 * 28)\n",
    "X_test = X_test.reshape(-1, 28 * 28)\n",
    "y_train = one_hot(y_train, 10)\n",
    "y_test = one_hot(y_test, 10)"
   ]
  },
  {
   "cell_type": "code",
   "execution_count": 5,
   "id": "a65c5ad2",
   "metadata": {},
   "outputs": [
    {
     "data": {
      "text/plain": [
       "((60000, 10), (60000, 784))"
      ]
     },
     "execution_count": 5,
     "metadata": {},
     "output_type": "execute_result"
    }
   ],
   "source": [
    "y_train.shape, X_train.shape"
   ]
  },
  {
   "cell_type": "code",
   "execution_count": 6,
   "id": "fbe5ee04",
   "metadata": {},
   "outputs": [
    {
     "data": {
      "text/plain": [
       "<matplotlib.image.AxesImage at 0x176dde0e320>"
      ]
     },
     "execution_count": 6,
     "metadata": {},
     "output_type": "execute_result"
    },
    {
     "data": {
      "image/png": "[encoded data removed]",
      "text/plain": [
       "<Figure size 432x288 with 1 Axes>"
      ]
     },
     "metadata": {
      "needs_background": "light"
     },
     "output_type": "display_data"
    }
   ],
   "source": [
    "plt.imshow(X_train[0].reshape(28, 28))"
   ]
  },
  {
   "cell_type": "code",
   "execution_count": 7,
   "id": "f65ec9bc",
   "metadata": {},
   "outputs": [],
   "source": [
    "mean_trainable_layers = []\n",
    "\n",
    "def train(model, X_train: np.ndarray, y_train: np.ndarray, X_test: np.ndarray, y_test: np.ndarray,\n",
    "          optimizer: Optimizer, loss, epochs: int, batch_size: int):\n",
    "\n",
    "    metric_names = ['loss', 'accuracy', 'f1_score']\n",
    "    history = {phase_name: {metric_name: [] for metric_name in metric_names} for phase_name in ['train', 'test']}\n",
    "\n",
    "    for i in range(epochs):\n",
    "        for j in range(0, X_train.shape[0], batch_size):\n",
    "            # print(f\"epoch {i} batch {j}\")\n",
    "            X_b_train = X_train[j:j+batch_size]\n",
    "            y_b_train = y_train[j:j+batch_size]\n",
    "            y_pred = model.forward(X_b_train)\n",
    "            loss_val = loss.forward(y_pred, y_b_train)\n",
    "            loss_gradient = loss.backward()\n",
    "            model.backward(loss_gradient)\n",
    "            optimizer.step()\n",
    "\n",
    "            y_pred_label = np.argmax(y_pred, axis=1)\n",
    "            y_true_label = np.argmax(y_b_train, axis=1)\n",
    "\n",
    "            history['train']['accuracy'].append(np.mean(y_pred_label == y_true_label))\n",
    "            history['train']['loss'].append(loss_val)\n",
    "            history['train']['f1_score'].append(f1_score(y_true_label, y_pred_label, average='macro'))\n",
    "\n",
    "            wd = [\n",
    "                np.mean([np.mean(layer.weights) for layer in model.trainable_layers]),\n",
    "                np.max([np.max(layer.weights) for layer in model.trainable_layers]),\n",
    "                np.mean([np.mean(layer.weights_gradient) for layer in model.trainable_layers]),\n",
    "                np.max([np.max(layer.weights_gradient) for layer in model.trainable_layers])\n",
    "            ]\n",
    "            weights_data.append(wd)\n",
    "\n",
    "            uniq_gradient_vals = list(set(abs(model.trainable_layers[0].weights_gradient.flatten())))\n",
    "            mean_trainable_layers.append(np.mean(uniq_gradient_vals))\n",
    "\n",
    "    return history"
   ]
  },
  {
   "cell_type": "code",
   "execution_count": 8,
   "id": "a15eb2f1",
   "metadata": {},
   "outputs": [],
   "source": [
    "# train(model, X, y, optimizer, loss, 10, X.shape[-1])"
   ]
  },
  {
   "cell_type": "code",
   "execution_count": 36,
   "id": "d1ee6bb4",
   "metadata": {},
   "outputs": [],
   "source": [
    "model = Sequential([28*28, 100, 10], [SigmoidLayer, LinearActivation])\n",
    "# optimizer = GradientDescentOptimizer(model.trainable_layers, learning_rate = 1e-3)\n",
    "optimizer = AdamOptimizer(model.trainable_layers, learning_rate = 1e-3)\n",
    "loss = CrossEntropyLossWithSoftMax()\n",
    "\n",
    "batch_size = 1024\n",
    "epochs = 10\n",
    "weights_data = []\n",
    "\n",
    "history = train(model, X_train, y_train, X_test, y_test, optimizer, loss, epochs, batch_size)"
   ]
  },
  {
   "cell_type": "code",
   "execution_count": 37,
   "id": "f5833a0e",
   "metadata": {},
   "outputs": [
    {
     "data": {
      "text/plain": [
       "[2.3040234801519586,\n",
       " 2.261834620146614,\n",
       " 2.2630783564266594,\n",
       " 2.2670639877913077,\n",
       " 2.2553649362730512,\n",
       " 2.2517591942360724,\n",
       " 2.241280971935393,\n",
       " 2.214669906056212,\n",
       " 2.2120577501191865,\n",
       " 2.176604403344201,\n",
       " 2.1751448096356416,\n",
       " 2.169005579960453,\n",
       " 2.154266446330074,\n",
       " 2.1273117234830323,\n",
       " 2.111558634980296,\n",
       " 2.1092861501485314,\n",
       " 2.079757646230924,\n",
       " 2.0805902732574673,\n",
       " 2.0758438254978833,\n",
       " 2.0637168175615512,\n",
       " 2.0252411062538425,\n",
       " 2.035823335368412,\n",
       " 2.033776190993401,\n",
       " 2.005241962870537,\n",
       " 1.986262789670685,\n",
       " 1.9276512402024846,\n",
       " 1.9730549324867506,\n",
       " 1.943957119548339,\n",
       " 1.9272632204380837,\n",
       " 1.9674145919895323,\n",
       " 1.906368422857989,\n",
       " 1.9606251281954512,\n",
       " 1.8638756594554342,\n",
       " 1.9073089512820913,\n",
       " 1.9225272926724921,\n",
       " 1.8937668867307402,\n",
       " 1.9046236548183433,\n",
       " 1.8538597740727951,\n",
       " 1.8451890804171325,\n",
       " 1.8132646301810176,\n",
       " 1.8578663999928768,\n",
       " 1.8462192156980521,\n",
       " 1.8137945672936036,\n",
       " 1.7792337273122278,\n",
       " 1.7487224051447239,\n",
       " 1.7686013230431563,\n",
       " 1.803901727672731,\n",
       " 1.7804069406695162,\n",
       " 1.7790870124640068,\n",
       " 1.7907303714733842,\n",
       " 1.718599654203413,\n",
       " 1.7501367148609517,\n",
       " 1.704367058824279,\n",
       " 1.7325555470196035,\n",
       " 1.6898654566125355,\n",
       " 1.675023690338264,\n",
       " 1.6397321033336285,\n",
       " 1.5727068241614273,\n",
       " 1.7242596515898203,\n",
       " 1.7389533187941149,\n",
       " 1.7500595310882598,\n",
       " 1.6586757007423536,\n",
       " 1.6540118213798194,\n",
       " 1.6571053950811758,\n",
       " 1.7270247631952007,\n",
       " 1.7090846322716278,\n",
       " 1.6992298354516633,\n",
       " 1.7272681103558936,\n",
       " 1.6230187146964323,\n",
       " 1.6651708803036809,\n",
       " 1.70632137761562,\n",
       " 1.7048580552829544,\n",
       " 1.6532921217993342,\n",
       " 1.6440275079513231,\n",
       " 1.653103052904137,\n",
       " 1.614434671320362,\n",
       " 1.6534266374659528,\n",
       " 1.6462757681600917,\n",
       " 1.6549171155949334,\n",
       " 1.579486193441723,\n",
       " 1.6079464570230568,\n",
       " 1.64976962063963,\n",
       " 1.602191787832485,\n",
       " 1.5822574075504914,\n",
       " 1.496964542303005,\n",
       " 1.580108843660982,\n",
       " 1.5463481827897105,\n",
       " 1.5309920281674032,\n",
       " 1.6309330810366023,\n",
       " 1.5330038091839666,\n",
       " 1.6183782934196314,\n",
       " 1.5025291291973801,\n",
       " 1.5637995882334117,\n",
       " 1.5890574211991926,\n",
       " 1.5570545297459213,\n",
       " 1.590589723731341,\n",
       " 1.5193595109609248,\n",
       " 1.5374614231466865,\n",
       " 1.487034591343321,\n",
       " 1.5738716144553178,\n",
       " 1.5661472053698846,\n",
       " 1.5048645392873823,\n",
       " 1.4879758611611402,\n",
       " 1.4481192119936162,\n",
       " 1.4736329359486615,\n",
       " 1.5236351340426064,\n",
       " 1.4965067022280298,\n",
       " 1.5191272538689966,\n",
       " 1.536143151840668,\n",
       " 1.4560789128387182,\n",
       " 1.5046590048782302,\n",
       " 1.4379473545307817,\n",
       " 1.4780577636960865,\n",
       " 1.427520663990499,\n",
       " 1.427934274397502,\n",
       " 1.3710408282779252,\n",
       " 1.303056622535211,\n",
       " 1.4679934883940877,\n",
       " 1.5133232406024895,\n",
       " 1.531736946697934,\n",
       " 1.4148348644766544,\n",
       " 1.4005885467011279,\n",
       " 1.4279218802464106,\n",
       " 1.4982376581700778,\n",
       " 1.4953848609874725,\n",
       " 1.4968853880712096,\n",
       " 1.5317733093750459,\n",
       " 1.3940636492447687,\n",
       " 1.453093807267276,\n",
       " 1.5133752830195137,\n",
       " 1.5256340061049638,\n",
       " 1.4741654918363316,\n",
       " 1.4731533555986018,\n",
       " 1.473204049861887,\n",
       " 1.4325970954836962,\n",
       " 1.484698368604044,\n",
       " 1.453599648121228,\n",
       " 1.4875821620191707,\n",
       " 1.4081393607687467,\n",
       " 1.4244583869613694,\n",
       " 1.48799450321479,\n",
       " 1.44286586375154,\n",
       " 1.4279553262643403,\n",
       " 1.3380235667997757,\n",
       " 1.4145822317085524,\n",
       " 1.3749095380391392,\n",
       " 1.3796353360464984,\n",
       " 1.484640216931973,\n",
       " 1.3892046433693088,\n",
       " 1.4787904521463717,\n",
       " 1.350086538414378,\n",
       " 1.4120730032662747,\n",
       " 1.436431244708658,\n",
       " 1.4066168209122978,\n",
       " 1.4435615817955334,\n",
       " 1.3532605885457774,\n",
       " 1.4066513105134841,\n",
       " 1.3372571017462684,\n",
       " 1.4296416926940003,\n",
       " 1.4280815495509211,\n",
       " 1.3594077593223566,\n",
       " 1.3530534793331443,\n",
       " 1.3006914677861436,\n",
       " 1.3236839112960017,\n",
       " 1.3874754652554822,\n",
       " 1.3545504188185507,\n",
       " 1.3897661510435235,\n",
       " 1.3891898993671534,\n",
       " 1.3046553734883268,\n",
       " 1.3722536505084406,\n",
       " 1.297535188383911,\n",
       " 1.3320613884949404,\n",
       " 1.2881467253704721,\n",
       " 1.2973160959836614,\n",
       " 1.2264786588118166,\n",
       " 1.1650802047653501,\n",
       " 1.3232153649769394,\n",
       " 1.3851479920091139,\n",
       " 1.4042936041425405,\n",
       " 1.2778242918951153,\n",
       " 1.2640233009206074,\n",
       " 1.2970500529985132,\n",
       " 1.364414994669153,\n",
       " 1.3727853254300713,\n",
       " 1.3838597068190335,\n",
       " 1.415063768621174,\n",
       " 1.2577305908669616,\n",
       " 1.3280751211137662,\n",
       " 1.3976189440772822,\n",
       " 1.4221692794304062,\n",
       " 1.3614889035448743,\n",
       " 1.369065713734401,\n",
       " 1.3584577191748743,\n",
       " 1.3271211605568234,\n",
       " 1.3769604965931457,\n",
       " 1.325293160194728,\n",
       " 1.3662757527721086,\n",
       " 1.2937280584695934,\n",
       " 1.297331557680798,\n",
       " 1.3818539358682767,\n",
       " 1.3325497259622128,\n",
       " 1.3291690515105825,\n",
       " 1.2448490977898745,\n",
       " 1.2974306840496792,\n",
       " 1.2630578764383098,\n",
       " 1.283230433878342,\n",
       " 1.3809281565336162,\n",
       " 1.3044780523519457,\n",
       " 1.387107314902877,\n",
       " 1.2515219717590578,\n",
       " 1.3014619084193835,\n",
       " 1.3310401006221684,\n",
       " 1.3092409018680775,\n",
       " 1.3579523733542922,\n",
       " 1.2537845167428943,\n",
       " 1.3212196372362675,\n",
       " 1.2359465888940715,\n",
       " 1.3275239438290447,\n",
       " 1.3282677628548765,\n",
       " 1.2586933532132853,\n",
       " 1.2656866378189664,\n",
       " 1.2094745650006333,\n",
       " 1.2233662194261155,\n",
       " 1.302890181914131,\n",
       " 1.2636611607702033,\n",
       " 1.292723635129757,\n",
       " 1.296274236254885,\n",
       " 1.2081768543087048,\n",
       " 1.287843606397003,\n",
       " 1.2073900292744217,\n",
       " 1.239291073092323,\n",
       " 1.1965146076363404,\n",
       " 1.2145362414717524,\n",
       " 1.1271751365972977,\n",
       " 1.0862825122862103,\n",
       " 1.2277079208220703,\n",
       " 1.2905458572949504,\n",
       " 1.3244707721028504,\n",
       " 1.183335524730932,\n",
       " 1.1667091490195753,\n",
       " 1.209685758225203,\n",
       " 1.276535308388886,\n",
       " 1.2856777611597012,\n",
       " 1.3036749650603376,\n",
       " 1.3342336358914042,\n",
       " 1.1711280268265294,\n",
       " 1.2440112166134292,\n",
       " 1.3080665653459622,\n",
       " 1.3395979258797834,\n",
       " 1.27942876428478,\n",
       " 1.3055150315433095,\n",
       " 1.2743147821530736,\n",
       " 1.253440093682513,\n",
       " 1.2870019870674014,\n",
       " 1.2414161533651324,\n",
       " 1.283278328886358,\n",
       " 1.215831131637923,\n",
       " 1.2121303928454183,\n",
       " 1.2997637552374006,\n",
       " 1.2582859315175083,\n",
       " 1.2581879427605809,\n",
       " 1.1767885096823056,\n",
       " 1.2133895834465975,\n",
       " 1.1831156625762602,\n",
       " 1.2074255512879875,\n",
       " 1.3124096415744286,\n",
       " 1.241962031806971,\n",
       " 1.323827847252807,\n",
       " 1.178462528608987,\n",
       " 1.2251285640871428,\n",
       " 1.2615091843507749,\n",
       " 1.2367235620437316,\n",
       " 1.2950815512515943,\n",
       " 1.1794260243393753,\n",
       " 1.2536452786577617,\n",
       " 1.166577686586799,\n",
       " 1.2544490901909093,\n",
       " 1.2609325163175797,\n",
       " 1.1814828492303402,\n",
       " 1.195458334626255,\n",
       " 1.143299612612401,\n",
       " 1.1531076618935652,\n",
       " 1.2336090130075485,\n",
       " 1.1958062361724637,\n",
       " 1.2270412689626067,\n",
       " 1.2285964749858433,\n",
       " 1.1387695653664442,\n",
       " 1.223333928496872,\n",
       " 1.1326515260743497,\n",
       " 1.1679152497850673,\n",
       " 1.1344184582209889,\n",
       " 1.1520344121007844,\n",
       " 1.0571113374935222,\n",
       " 1.0250840334238047,\n",
       " 1.1517860116811462,\n",
       " 1.227076829734306,\n",
       " 1.259653986023129,\n",
       " 1.1219299497510062,\n",
       " 1.0971390272361778,\n",
       " 1.1448708165707226,\n",
       " 1.2123187363474233,\n",
       " 1.2101423297682978,\n",
       " 1.243580056909065,\n",
       " 1.26722523675959,\n",
       " 1.1026930174432095,\n",
       " 1.1760459599163688,\n",
       " 1.2431095721291392,\n",
       " 1.2759690688088754,\n",
       " 1.216967445576491,\n",
       " 1.2457382809721778,\n",
       " 1.2106124748328395,\n",
       " 1.1939867440216525,\n",
       " 1.2214246370523547,\n",
       " 1.17090087338747,\n",
       " 1.2218459808802233,\n",
       " 1.1548463378432525,\n",
       " 1.1516741781385793,\n",
       " 1.2401069753444065,\n",
       " 1.199168489736224,\n",
       " 1.204126108769854,\n",
       " 1.1198418798273506,\n",
       " 1.1526830765319591,\n",
       " 1.1281381468232707,\n",
       " 1.1493246662032452,\n",
       " 1.2527226426162146,\n",
       " 1.189667860508155,\n",
       " 1.2705218988496507,\n",
       " 1.1175013602440202,\n",
       " 1.1652357832162754,\n",
       " 1.2033030320677884,\n",
       " 1.173966048715446,\n",
       " 1.2434435911726829,\n",
       " 1.124706073232886,\n",
       " 1.2045637502490751,\n",
       " 1.110693899993071,\n",
       " 1.194719747875778,\n",
       " 1.211396411396448,\n",
       " 1.1236726780472153,\n",
       " 1.1465058353025268,\n",
       " 1.101510318689521,\n",
       " 1.0953697739180492,\n",
       " 1.174755762810823,\n",
       " 1.1472567367464253,\n",
       " 1.1779831546542852,\n",
       " 1.1822068630161708,\n",
       " 1.0817817304579735,\n",
       " 1.1696811110495149,\n",
       " 1.077558617237727,\n",
       " 1.112461026991442,\n",
       " 1.0832211667815768,\n",
       " 1.1005040168650664,\n",
       " 1.002921532000863,\n",
       " 0.9743467659422805,\n",
       " 1.092267170276322,\n",
       " 1.1740359104274358,\n",
       " 1.2130716099515517,\n",
       " 1.0761228664686713,\n",
       " 1.0450102096243137,\n",
       " 1.0920784879193917,\n",
       " 1.1604507188688098,\n",
       " 1.155068898403501,\n",
       " 1.1925681847452572,\n",
       " 1.2153652547279123,\n",
       " 1.0491796889665326,\n",
       " 1.1253697689830768,\n",
       " 1.191834069212525,\n",
       " 1.2291827247033578,\n",
       " 1.1661335211750958,\n",
       " 1.202303679472386,\n",
       " 1.161760723566175,\n",
       " 1.1477602382793621,\n",
       " 1.1745382175920214,\n",
       " 1.1163395397865439,\n",
       " 1.1661727920659681,\n",
       " 1.1027259053473184,\n",
       " 1.1041742328520046,\n",
       " 1.1899287488809946,\n",
       " 1.1497111980423096,\n",
       " 1.157029782514636,\n",
       " 1.0731735459957934,\n",
       " 1.101772637951821,\n",
       " 1.0813289685000314,\n",
       " 1.0969689812399326,\n",
       " 1.2037706813765785,\n",
       " 1.1483378145854357,\n",
       " 1.2286002211974494,\n",
       " 1.072879023654522,\n",
       " 1.1190193737523968,\n",
       " 1.1553152511599223,\n",
       " 1.1215909933405401,\n",
       " 1.1995510723424165,\n",
       " 1.074946819965747,\n",
       " 1.1640861326418903,\n",
       " 1.0559173904303414,\n",
       " 1.1494530974144201,\n",
       " 1.1745819703903417,\n",
       " 1.0802363324827826,\n",
       " 1.1055428607547622,\n",
       " 1.0620833240845433,\n",
       " 1.0519006257315826,\n",
       " 1.1310772433352032,\n",
       " 1.0998634237705545,\n",
       " 1.140718889307418,\n",
       " 1.1395718482278867,\n",
       " 1.0421315933088864,\n",
       " 1.128400082727779,\n",
       " 1.0363529585796816,\n",
       " 1.0740250636171678,\n",
       " 1.041008181167701,\n",
       " 1.0581772691159692,\n",
       " 0.9610960755805809,\n",
       " 0.9285051099729814,\n",
       " 1.0414371081387215,\n",
       " 1.1275163758261502,\n",
       " 1.177069166885578,\n",
       " 1.0427812229890439,\n",
       " 0.9989023321053941,\n",
       " 1.0473290714705072,\n",
       " 1.1137448130664254,\n",
       " 1.109717760240875,\n",
       " 1.1450620923159256,\n",
       " 1.1733927944323395,\n",
       " 1.0077327538258003,\n",
       " 1.0837572284114705,\n",
       " 1.15459572470243,\n",
       " 1.1881557180422107,\n",
       " 1.1175991834988603,\n",
       " 1.1605317690425316,\n",
       " 1.1174958410583296,\n",
       " 1.1114145910534745,\n",
       " 1.13276945593803,\n",
       " 1.0700661848860844,\n",
       " 1.1175903045729139,\n",
       " 1.0552786207104536,\n",
       " 1.058241582273866,\n",
       " 1.1485669100246618,\n",
       " 1.10929083872179,\n",
       " 1.1197945297554501,\n",
       " 1.0387444273878181,\n",
       " 1.0621699883099422,\n",
       " 1.0397785013136287,\n",
       " 1.0572395093675082,\n",
       " 1.168074424276884,\n",
       " 1.1157575408262908,\n",
       " 1.1910541065053515,\n",
       " 1.0353610651814167,\n",
       " 1.084118468231916,\n",
       " 1.1153364599858562,\n",
       " 1.079828939033916,\n",
       " 1.1597023680142087,\n",
       " 1.0319304404466225,\n",
       " 1.1220164450803076,\n",
       " 1.0118560839811745,\n",
       " 1.1135338516744935,\n",
       " 1.1420950278434732,\n",
       " 1.0439503633776213,\n",
       " 1.064878197541582,\n",
       " 1.0246851100963823,\n",
       " 1.0146357229647986,\n",
       " 1.0956027166041113,\n",
       " 1.0596851686748263,\n",
       " 1.1056666905051888,\n",
       " 1.1142028428235171,\n",
       " 1.009755312308621,\n",
       " 1.0926092289955238,\n",
       " 1.0006054835629001,\n",
       " 1.0380220020018376,\n",
       " 1.0072384198540585,\n",
       " 1.0215671818579286,\n",
       " 0.9284372762017545,\n",
       " 0.894434296163131,\n",
       " 1.0077773319679015,\n",
       " 1.09020043901047,\n",
       " 1.1423520458981762,\n",
       " 1.014160318684737,\n",
       " 0.9595890107989943,\n",
       " 1.0122024432025016,\n",
       " 1.0775501708418602,\n",
       " 1.0754677704486173,\n",
       " 1.1039765955770378,\n",
       " 1.1416401198378832,\n",
       " 0.9771013478453427,\n",
       " 1.0503162709341594,\n",
       " 1.1172532468819503,\n",
       " 1.1517972815782918,\n",
       " 1.0801890547166588,\n",
       " 1.1323450450387023,\n",
       " 1.0794583711695915,\n",
       " 1.0796865573476448,\n",
       " 1.0998752871067188,\n",
       " 1.0351268503386386,\n",
       " 1.0803061330291162,\n",
       " 1.0193096479858443,\n",
       " 1.016731661470239,\n",
       " 1.1117697264847135,\n",
       " 1.0749859980521137,\n",
       " 1.0925634867241263,\n",
       " 1.0098174954716295,\n",
       " 1.0267165724933849,\n",
       " 1.0058455246016016,\n",
       " 1.0232573277267765,\n",
       " 1.1355602483150808,\n",
       " 1.087874939382326,\n",
       " 1.1582335033674203,\n",
       " 1.0081522323259349,\n",
       " 1.0502803587760736,\n",
       " 1.0864847777863043,\n",
       " 1.0426647013818033,\n",
       " 1.1349725722233217,\n",
       " 1.0000457836276775,\n",
       " 1.0916301737674814,\n",
       " 0.9812332996966877,\n",
       " 1.0843334402108031,\n",
       " 1.1172981658501693,\n",
       " 1.0126885232862575,\n",
       " 1.0334963601099885,\n",
       " 0.9989275114090398,\n",
       " 0.9815288280616696,\n",
       " 1.0630757879761021,\n",
       " 1.0297086209375526,\n",
       " 1.0741995980494825,\n",
       " 1.0793810314980683,\n",
       " 0.9788319144312001,\n",
       " 1.0624029511831303,\n",
       " 0.9723136778911077,\n",
       " 1.0062581450878394,\n",
       " 0.9738567786436553,\n",
       " 0.9941831857985293,\n",
       " 0.9029032612441574,\n",
       " 0.86314104254448,\n",
       " 0.9707132076282636,\n",
       " 1.061040258693187,\n",
       " 1.1139947734419402,\n",
       " 0.9835943230926968,\n",
       " 0.921963965234796,\n",
       " 0.982468446483149,\n",
       " 1.050085282129537,\n",
       " 1.0433906881120527,\n",
       " 1.0699955415828315,\n",
       " 1.1132895283797564,\n",
       " 0.9489587259588863,\n",
       " 1.022514248734185,\n",
       " 1.08964671331404,\n",
       " 1.1220274385571298,\n",
       " 1.0467267568212368,\n",
       " 1.1021894327015318,\n",
       " 1.052035627803337,\n",
       " 1.0505128659223266,\n",
       " 1.069996758635903,\n",
       " 1.0034518852169156,\n",
       " 1.0439385743952032,\n",
       " 0.9860254053863163,\n",
       " 0.9782354535073048,\n",
       " 1.0761296354629413,\n",
       " 1.0492531242079264,\n",
       " 1.0648732065903057,\n",
       " 0.9877315862859019,\n",
       " 1.0004195734979258,\n",
       " 0.9761438070520827,\n",
       " 0.9938191808629482,\n",
       " 1.102305895437705,\n",
       " 1.0641511342958345,\n",
       " 1.135564323369358,\n",
       " 0.9789463151152722,\n",
       " 1.024056885670831,\n",
       " 1.0582605222623276,\n",
       " 1.0160668264375459,\n",
       " 1.107554169284255,\n",
       " 0.9704347885780381,\n",
       " 1.0655887636971346,\n",
       " 0.9528289595653501,\n",
       " 1.0608771216488542,\n",
       " 1.0936206352713562,\n",
       " 0.9912222106362857,\n",
       " 1.0080498242307359,\n",
       " 0.9784515405225349,\n",
       " 0.9536969022917298,\n",
       " 1.0301694954460205,\n",
       " 1.0014165839508735,\n",
       " 1.049003154500661,\n",
       " 1.0541415832922336,\n",
       " 0.9505694543518444,\n",
       " 1.0368565558211364,\n",
       " 0.9483671790599555,\n",
       " 0.9793680780574043,\n",
       " 0.9499925197744865,\n",
       " 0.9729586333981293,\n",
       " 0.8837718528753526,\n",
       " 0.8363738726774812,\n",
       " 0.9350779769004273]"
      ]
     },
     "execution_count": 37,
     "metadata": {},
     "output_type": "execute_result"
    }
   ],
   "source": [
    "history['train']['loss']"
   ]
  },
  {
   "cell_type": "code",
   "execution_count": 38,
   "id": "890ad2cd",
   "metadata": {},
   "outputs": [
    {
     "data": {
      "text/plain": [
       "0.0027573898357910465"
      ]
     },
     "execution_count": 38,
     "metadata": {},
     "output_type": "execute_result"
    }
   ],
   "source": [
    "a = list(set(abs(model.trainable_layers[1].weights_gradient.flatten())))\n",
    "np.mean(a)"
   ]
  },
  {
   "cell_type": "code",
   "execution_count": 39,
   "id": "7ed8a543",
   "metadata": {},
   "outputs": [
    {
     "data": {
      "text/plain": [
       "0.171490365759002"
      ]
     },
     "execution_count": 39,
     "metadata": {},
     "output_type": "execute_result"
    }
   ],
   "source": [
    "np.abs(model.trainable_layers[0].weights_gradient.flatten()).mean()"
   ]
  },
  {
   "cell_type": "code",
   "execution_count": 40,
   "id": "68aeb9a7",
   "metadata": {},
   "outputs": [
    {
     "data": {
      "image/png": "[encoded data removed]",
      "text/plain": [
       "<Figure size 432x288 with 1 Axes>"
      ]
     },
     "metadata": {
      "needs_background": "light"
     },
     "output_type": "display_data"
    },
    {
     "data": {
      "image/png": "[encoded data removed]",
      "text/plain": [
       "<Figure size 432x288 with 1 Axes>"
      ]
     },
     "metadata": {
      "needs_background": "light"
     },
     "output_type": "display_data"
    },
    {
     "data": {
      "image/png": "[encoded data removed]",
      "text/plain": [
       "<Figure size 432x288 with 1 Axes>"
      ]
     },
     "metadata": {
      "needs_background": "light"
     },
     "output_type": "display_data"
    }
   ],
   "source": [
    "for key, value in history['train'].items():\n",
    "    plt.plot(value)\n",
    "    plt.title(key)\n",
    "    plt.show()"
   ]
  },
  {
   "cell_type": "code",
   "execution_count": 14,
   "id": "05f0d699",
   "metadata": {},
   "outputs": [
    {
     "data": {
      "text/plain": [
       "array([[0.09857037, 0.11271619, 0.09128491, 0.09842653, 0.08354562,\n",
       "        0.08216163, 0.08250401, 0.1232331 , 0.0757941 , 0.08066178]])"
      ]
     },
     "execution_count": 14,
     "metadata": {},
     "output_type": "execute_result"
    }
   ],
   "source": [
    "a = model.forward(X_train[0])\n",
    "a"
   ]
  },
  {
   "cell_type": "code",
   "execution_count": 15,
   "id": "0b3e0c51",
   "metadata": {},
   "outputs": [
    {
     "data": {
      "text/plain": [
       "'\\ndef train(model, X: np.ndarray, y: np.ndarray, optimizer: Optimizer, loss, epochs: int, batch_size: int = 32, verbose: bool = True):\\n    for epoch in range(epochs):\\n        for X_batch, y_batch in get_batches(X, y, batch_size):\\n            y_pred = model.forward(X_batch)\\n            loss_gradient = loss.gradient(y_batch, y_pred)\\n            model.backward(loss_gradient)\\n            optimizer.step()\\n        if verbose:\\n            print(f\"Epoch {epoch + 1}/{epochs} loss: {loss(y_batch, y_pred)}\")\\n'"
      ]
     },
     "execution_count": 15,
     "metadata": {},
     "output_type": "execute_result"
    }
   ],
   "source": [
    "\"\"\"\n",
    "def train(model, X: np.ndarray, y: np.ndarray, optimizer: Optimizer, loss, epochs: int, batch_size: int = 32, verbose: bool = True):\n",
    "    for epoch in range(epochs):\n",
    "        for X_batch, y_batch in get_batches(X, y, batch_size):\n",
    "            y_pred = model.forward(X_batch)\n",
    "            loss_gradient = loss.gradient(y_batch, y_pred)\n",
    "            model.backward(loss_gradient)\n",
    "            optimizer.step()\n",
    "        if verbose:\n",
    "            print(f\"Epoch {epoch + 1}/{epochs} loss: {loss(y_batch, y_pred)}\")\n",
    "\"\"\""
   ]
  },
  {
   "cell_type": "code",
   "execution_count": null,
   "id": "422a1696",
   "metadata": {},
   "outputs": [],
   "source": []
  },
  {
   "cell_type": "code",
   "execution_count": 29,
   "id": "0cb29b97",
   "metadata": {},
   "outputs": [
    {
     "name": "stderr",
     "output_type": "stream",
     "text": [
      "c:\\Users\\SystemPoint\\AppData\\Local\\Programs\\Python\\Python310\\lib\\site-packages\\tqdm\\auto.py:22: TqdmWarning: IProgress not found. Please update jupyter and ipywidgets. See https://ipywidgets.readthedocs.io/en/stable/user_install.html\n",
      "  from .autonotebook import tqdm as notebook_tqdm\n"
     ]
    }
   ],
   "source": [
    "import torch"
   ]
  },
  {
   "cell_type": "code",
   "execution_count": 30,
   "id": "9bab0db3",
   "metadata": {},
   "outputs": [],
   "source": [
    "\n",
    "\n",
    "X_train_torch = torch.from_numpy(X_train).float()\n",
    "y_train_torch = torch.from_numpy(y_train)\n",
    "\n",
    "X_test_torch = torch.from_numpy(X_test).float()\n",
    "y_test_torch = torch.from_numpy(y_test)\n",
    "\n",
    "def train_torch(model, X_train: torch.Tensor, y_train: torch.Tensor, X_test: torch.Tensor, y_test: torch.Tensor,\n",
    "          optimizer, loss, epochs: int, batch_size: int):\n",
    "    \n",
    "    metric_names = ['loss', 'accuracy', 'f1_score']\n",
    "    history = {phase_name: {metric_name: [] for metric_name in metric_names} for phase_name in ['train', 'test']}\n",
    "\n",
    "    for i in range(epochs):\n",
    "        for j in range(0, X_train.shape[0], batch_size):\n",
    "            # print(f\"epoch {i} batch {j}\")\n",
    "            X_b_train = X_train[j:j+batch_size]\n",
    "            y_b_train = y_train[j:j+batch_size]\n",
    "            y_pred = model(X_b_train)\n",
    "            loss_val = loss(y_pred, y_b_train)\n",
    "            optimizer.zero_grad()\n",
    "            loss_val.backward()\n",
    "            optimizer.step()\n",
    "\n",
    "            y_pred_label = np.argmax(y_pred.detach().numpy(), axis=1)\n",
    "            y_true_label = np.argmax(y_b_train.detach().numpy(), axis=1)\n",
    "\n",
    "            history['train']['accuracy'].append(np.mean(y_pred_label == y_true_label).item())\n",
    "            history['train']['loss'].append(loss_val.item())\n",
    "            history['train']['f1_score'].append(f1_score(y_true_label, y_pred_label, average='macro').item())\n",
    "\n",
    "    return history"
   ]
  },
  {
   "cell_type": "code",
   "execution_count": 31,
   "id": "1f8bee91",
   "metadata": {},
   "outputs": [
    {
     "data": {
      "text/plain": [
       "array([1, 1, 1], dtype=int64)"
      ]
     },
     "execution_count": 31,
     "metadata": {},
     "output_type": "execute_result"
    }
   ],
   "source": [
    "np.argmax([[1, 2, 3], [4, 5, 6]], axis = 0)"
   ]
  },
  {
   "cell_type": "code",
   "execution_count": 32,
   "id": "4b4f4d95",
   "metadata": {},
   "outputs": [
    {
     "data": {
      "text/plain": [
       "torch.float32"
      ]
     },
     "execution_count": 32,
     "metadata": {},
     "output_type": "execute_result"
    }
   ],
   "source": [
    "X_train_torch.dtype"
   ]
  },
  {
   "cell_type": "code",
   "execution_count": 33,
   "id": "7bcd5113",
   "metadata": {},
   "outputs": [],
   "source": [
    "model_torch = torch.nn.Sequential(\n",
    "    torch.nn.Linear(28*28, 100),\n",
    "    torch.nn.ReLU(),\n",
    "    torch.nn.Linear(100, 10),\n",
    "    #torch.nn.Softmax(dim = 1)\n",
    ")\n",
    "\n",
    "weights_data_torch = []\n",
    "\n",
    "optimizer_torch = torch.optim.Adam(model_torch.parameters(), lr=1e-3)\n",
    "\n",
    "loss_torch = torch.nn.CrossEntropyLoss()\n",
    "\n",
    "history_torch = train_torch(model_torch, X_train_torch, y_train_torch, X_test_torch, y_test_torch, optimizer_torch, loss_torch, 10, 4096)"
   ]
  },
  {
   "cell_type": "code",
   "execution_count": 34,
   "id": "b8ba5560",
   "metadata": {},
   "outputs": [],
   "source": [
    "# list(model_torch.parameters())"
   ]
  },
  {
   "cell_type": "code",
   "execution_count": 35,
   "id": "bc9f425f",
   "metadata": {},
   "outputs": [
    {
     "data": {
      "image/png": "[encoded data removed]",
      "text/plain": [
       "<Figure size 432x288 with 1 Axes>"
      ]
     },
     "metadata": {
      "needs_background": "light"
     },
     "output_type": "display_data"
    },
    {
     "data": {
      "image/png": "[encoded data removed]",
      "text/plain": [
       "<Figure size 432x288 with 1 Axes>"
      ]
     },
     "metadata": {
      "needs_background": "light"
     },
     "output_type": "display_data"
    },
    {
     "data": {
      "image/png": "[encoded data removed]",
      "text/plain": [
       "<Figure size 432x288 with 1 Axes>"
      ]
     },
     "metadata": {
      "needs_background": "light"
     },
     "output_type": "display_data"
    }
   ],
   "source": [
    "for key, value in history_torch['train'].items():\n",
    "    plt.plot(value)\n",
    "    plt.title(key)\n",
    "    plt.show()"
   ]
  },
  {
   "cell_type": "code",
   "execution_count": 23,
   "id": "4ad4ae17",
   "metadata": {},
   "outputs": [
    {
     "data": {
      "text/plain": [
       "2.3177589988918044"
      ]
     },
     "execution_count": 23,
     "metadata": {},
     "output_type": "execute_result"
    }
   ],
   "source": [
    "history_torch['train']['loss'][0]"
   ]
  }
 ],
 "metadata": {
  "kernelspec": {
   "display_name": "Python 3",
   "language": "python",
   "name": "python3"
  },
  "language_info": {
   "codemirror_mode": {
    "name": "ipython",
    "version": 3
   },
   "file_extension": ".py",
   "mimetype": "text/x-python",
   "name": "python",
   "nbconvert_exporter": "python",
   "pygments_lexer": "ipython3",
   "version": "3.10.4"
  },
  "vscode": {
   "interpreter": {
    "hash": "2bbf79ea567ebf64b92b9cf68f2b08a0cf8db5ff8a7f29f56d99d802810464d9"
   }
  }
 },
 "nbformat": 4,
 "nbformat_minor": 5
}
