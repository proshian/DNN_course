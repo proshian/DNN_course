{
 "cells": [
  {
   "cell_type": "code",
   "execution_count": 1,
   "id": "59a56421",
   "metadata": {},
   "outputs": [],
   "source": [
    "import numpy as np\n",
    "from keras.datasets import mnist\n",
    "from sklearn.model_selection import train_test_split\n",
    "from sklearn.metrics import f1_score\n",
    "import matplotlib.pyplot as plt\n",
    "\n",
    "from NumpyNN.NN_np import (\n",
    "    FullyConnectedLayer,\n",
    "    ReLULayer,\n",
    "    SigmoidLayer,\n",
    "    ReLULayer,\n",
    "    AdamOptimizer,\n",
    "    CrossEntropyLoss,\n",
    "    LinearActivation,\n",
    "    Sequential,\n",
    "    Optimizer,\n",
    "    SoftMaxLayer,\n",
    "    GradientDescentOptimizer\n",
    ")"
   ]
  },
  {
   "cell_type": "code",
   "execution_count": 2,
   "id": "c2bfd8b8",
   "metadata": {},
   "outputs": [
    {
     "data": {
      "text/plain": [
       "<Figure size 432x288 with 0 Axes>"
      ]
     },
     "metadata": {},
     "output_type": "display_data"
    }
   ],
   "source": [
    "plt.gray()"
   ]
  },
  {
   "cell_type": "code",
   "execution_count": 3,
   "id": "6ebb2342",
   "metadata": {},
   "outputs": [],
   "source": [
    "def one_hot(y: np.ndarray, n_classes: int):\n",
    "    encoded = np.zeros((y.size, n_classes))\n",
    "    encoded[np.arange(y.size), y] = 1\n",
    "    return encoded"
   ]
  },
  {
   "cell_type": "code",
   "execution_count": 4,
   "id": "fb42decb",
   "metadata": {},
   "outputs": [],
   "source": [
    "((X_train, y_train), (X_test, y_test)) = mnist.load_data()\n",
    "\n",
    "X_train = X_train.reshape(-1, 28 * 28)\n",
    "X_test = X_test.reshape(-1, 28 * 28)\n",
    "y_train = one_hot(y_train, 10)\n",
    "y_test = one_hot(y_test, 10)"
   ]
  },
  {
   "cell_type": "code",
   "execution_count": 5,
   "id": "a65c5ad2",
   "metadata": {},
   "outputs": [
    {
     "data": {
      "text/plain": [
       "((60000, 10), (60000, 784))"
      ]
     },
     "execution_count": 5,
     "metadata": {},
     "output_type": "execute_result"
    }
   ],
   "source": [
    "y_train.shape, X_train.shape"
   ]
  },
  {
   "cell_type": "code",
   "execution_count": 6,
   "id": "fbe5ee04",
   "metadata": {},
   "outputs": [
    {
     "data": {
      "text/plain": [
       "<matplotlib.image.AxesImage at 0x1ed85f8af80>"
      ]
     },
     "execution_count": 6,
     "metadata": {},
     "output_type": "execute_result"
    },
    {
     "data": {
      "image/png": "[encoded data removed]",
      "text/plain": [
       "<Figure size 432x288 with 1 Axes>"
      ]
     },
     "metadata": {
      "needs_background": "light"
     },
     "output_type": "display_data"
    }
   ],
   "source": [
    "plt.imshow(X_train[0].reshape(28, 28))"
   ]
  },
  {
   "cell_type": "code",
   "execution_count": 7,
   "id": "f65ec9bc",
   "metadata": {},
   "outputs": [],
   "source": [
    "mean_trainable_layers = []\n",
    "\n",
    "def train(model, X_train: np.ndarray, y_train: np.ndarray, X_test: np.ndarray, y_test: np.ndarray,\n",
    "          optimizer: Optimizer, loss, epochs: int, batch_size: int):\n",
    "\n",
    "    metric_names = ['loss', 'accuracy', 'f1_score']\n",
    "    history = {phase_name: {metric_name: [] for metric_name in metric_names} for phase_name in ['train', 'test']}\n",
    "\n",
    "    for i in range(epochs):\n",
    "        for j in range(0, X_train.shape[0], batch_size):\n",
    "            # print(f\"epoch {i} batch {j}\")\n",
    "            X_b_train = X_train[j:j+batch_size]\n",
    "            y_b_train = y_train[j:j+batch_size]\n",
    "            y_pred = model.forward(X_b_train)\n",
    "            loss_val = loss.forward(y_pred, y_b_train)\n",
    "            loss_gradient = loss.backward()\n",
    "            model.backward(loss_gradient)\n",
    "            optimizer.step()\n",
    "\n",
    "            y_pred_label = np.argmax(y_pred, axis=1)\n",
    "            y_true_label = np.argmax(y_b_train, axis=1)\n",
    "\n",
    "            history['train']['accuracy'].append(np.mean(y_pred_label == y_true_label))\n",
    "            history['train']['loss'].append(loss_val)\n",
    "            history['train']['f1_score'].append(f1_score(y_true_label, y_pred_label, average='macro'))\n",
    "\n",
    "            wd = [\n",
    "                np.mean([np.mean(layer.weights) for layer in model.trainable_layers]),\n",
    "                np.max([np.max(layer.weights) for layer in model.trainable_layers]),\n",
    "                np.mean([np.mean(layer.weights_gradient) for layer in model.trainable_layers]),\n",
    "                np.max([np.max(layer.weights_gradient) for layer in model.trainable_layers])\n",
    "            ]\n",
    "            weights_data.append(wd)\n",
    "\n",
    "            uniq_gradient_vals = list(set(abs(model.trainable_layers[1].weights_gradient.flatten())))\n",
    "            mean_trainable_layers.append(np.mean(a))\n",
    "\n",
    "    return history"
   ]
  },
  {
   "cell_type": "code",
   "execution_count": 8,
   "id": "a15eb2f1",
   "metadata": {},
   "outputs": [],
   "source": [
    "# train(model, X, y, optimizer, loss, 10, X.shape[-1])"
   ]
  },
  {
   "cell_type": "code",
   "execution_count": 9,
   "id": "d1ee6bb4",
   "metadata": {},
   "outputs": [],
   "source": [
    "model = Sequential([28*28, 100, 10], [SigmoidLayer, SoftMaxLayer])\n",
    "optimizer = GradientDescentOptimizer(model.trainable_layers, learning_rate = 0.001)\n",
    "loss = CrossEntropyLoss()\n",
    "\n",
    "batch_size = 1024\n",
    "epochs = 10\n",
    "weights_data = []\n",
    "\n",
    "history = train(model, X_train, y_train, X_test, y_test, optimizer, loss, epochs, batch_size)"
   ]
  },
  {
   "cell_type": "code",
   "execution_count": 10,
   "id": "f5833a0e",
   "metadata": {},
   "outputs": [
    {
     "data": {
      "text/plain": [
       "[2.3085026185809534,\n",
       " 14.097948251491252,\n",
       " 16.495863517777657,\n",
       " 16.675752978167814,\n",
       " 16.74770876232388,\n",
       " 16.38792984154356,\n",
       " 16.35195194946553,\n",
       " 16.459885625699627,\n",
       " 16.53184140985569,\n",
       " 16.423907733621594,\n",
       " 16.36994089550455,\n",
       " 16.675752978167818,\n",
       " 16.56781930193372,\n",
       " 16.58580824797274,\n",
       " 16.711730870245848,\n",
       " 16.549830355894706,\n",
       " 16.35195194946553,\n",
       " 16.549830355894706,\n",
       " 16.675752978167818,\n",
       " 16.315974057387496,\n",
       " 16.603797194011754,\n",
       " 16.226029327192418,\n",
       " 16.74770876232388,\n",
       " 16.80167560044093,\n",
       " 16.513852463816676,\n",
       " 16.17206248907537,\n",
       " 16.53184140985569,\n",
       " 16.7656977083629,\n",
       " 16.675752978167818,\n",
       " 16.369940895504545,\n",
       " 16.44189667966061,\n",
       " 16.56781930193372,\n",
       " 16.693741924206833,\n",
       " 16.423907733621594,\n",
       " 16.44189667966061,\n",
       " 16.7656977083629,\n",
       " 16.675752978167814,\n",
       " 16.83765349251896,\n",
       " 16.3159740573875,\n",
       " 16.36994089550455,\n",
       " 16.74770876232388,\n",
       " 16.44189667966061,\n",
       " 16.56781930193372,\n",
       " 16.44189667966061,\n",
       " 16.62178614005077,\n",
       " 16.53184140985569,\n",
       " 16.62178614005077,\n",
       " 16.53184140985569,\n",
       " 16.423907733621594,\n",
       " 16.513852463816676,\n",
       " 16.56781930193372,\n",
       " 16.657764032128803,\n",
       " 16.441896679660612,\n",
       " 16.477874571738642,\n",
       " 16.423907733621594,\n",
       " 16.639775086089784,\n",
       " 16.38792984154356,\n",
       " 16.62178614005077,\n",
       " 16.63314757965436,\n",
       " 16.226029327192418,\n",
       " 16.765697708362897,\n",
       " 16.29798511134848,\n",
       " 16.62178614005077,\n",
       " 16.33396300342651,\n",
       " 16.423907733621594,\n",
       " 16.459885625699627,\n",
       " 16.136084596997335,\n",
       " 16.549830355894706,\n",
       " 16.62178614005077,\n",
       " 16.6577640321288,\n",
       " 16.513852463816676,\n",
       " 16.40591878758258,\n",
       " 16.531841409855687,\n",
       " 16.44189667966061,\n",
       " 16.567819301933724,\n",
       " 16.477874571738642,\n",
       " 16.08211775888029,\n",
       " 16.513852463816672,\n",
       " 16.56781930193372,\n",
       " 16.657764032128803,\n",
       " 16.477874571738642,\n",
       " 16.53184140985569,\n",
       " 16.423907733621594,\n",
       " 16.44189667966061,\n",
       " 16.855642438557975,\n",
       " 16.36994089550455,\n",
       " 16.44189667966061,\n",
       " 16.711730870245848,\n",
       " 16.369940895504545,\n",
       " 16.53184140985569,\n",
       " 16.56781930193372,\n",
       " 16.74770876232388,\n",
       " 16.549830355894706,\n",
       " 16.35195194946553,\n",
       " 16.603797194011754,\n",
       " 16.40591878758258,\n",
       " 16.7656977083629,\n",
       " 16.56781930193372,\n",
       " 16.262007219270448,\n",
       " 16.56781930193372,\n",
       " 16.675752978167818,\n",
       " 16.56781930193372,\n",
       " 16.477874571738642,\n",
       " 16.459885625699627,\n",
       " 16.53184140985569,\n",
       " 16.675752978167818,\n",
       " 16.53184140985569,\n",
       " 16.819664546479945,\n",
       " 16.459885625699624,\n",
       " 16.531841409855687,\n",
       " 16.513852463816672,\n",
       " 16.603797194011754,\n",
       " 16.35195194946553,\n",
       " 16.71173087024585,\n",
       " 16.513852463816676,\n",
       " 16.38792984154356,\n",
       " 16.47787457173864,\n",
       " 16.572553235101886,\n",
       " 16.801675600440927,\n",
       " 16.40591878758258,\n",
       " 16.369940895504545,\n",
       " 16.423907733621594,\n",
       " 16.74770876232388,\n",
       " 16.495863517777657,\n",
       " 16.459885625699627,\n",
       " 16.657764032128803,\n",
       " 16.369940895504545,\n",
       " 16.459885625699627,\n",
       " 16.40591878758258,\n",
       " 16.44189667966061,\n",
       " 16.40591878758258,\n",
       " 16.495863517777657,\n",
       " 16.729719816284867,\n",
       " 16.567819301933724,\n",
       " 16.35195194946553,\n",
       " 16.549830355894706,\n",
       " 16.74770876232388,\n",
       " 16.459885625699627,\n",
       " 16.711730870245848,\n",
       " 16.477874571738642,\n",
       " 16.78368665440191,\n",
       " 16.639775086089784,\n",
       " 16.639775086089784,\n",
       " 16.17206248907537,\n",
       " 16.58580824797274,\n",
       " 16.369940895504545,\n",
       " 16.513852463816672,\n",
       " 16.657764032128803,\n",
       " 16.387929841543563,\n",
       " 16.459885625699627,\n",
       " 16.909609276675027,\n",
       " 16.549830355894706,\n",
       " 16.729719816284863,\n",
       " 16.549830355894706,\n",
       " 16.71173087024585,\n",
       " 16.7656977083629,\n",
       " 16.549830355894706,\n",
       " 16.262007219270448,\n",
       " 16.585808247972736,\n",
       " 16.477874571738642,\n",
       " 16.40591878758258,\n",
       " 16.208040381153403,\n",
       " 16.459885625699627,\n",
       " 16.53184140985569,\n",
       " 16.62178614005077,\n",
       " 16.459885625699624,\n",
       " 16.819664546479945,\n",
       " 16.405918787582575,\n",
       " 16.44189667966061,\n",
       " 16.495863517777657,\n",
       " 16.585808247972736,\n",
       " 16.35195194946553,\n",
       " 16.78368665440191,\n",
       " 16.58580824797274,\n",
       " 16.38792984154356,\n",
       " 16.47787457173864,\n",
       " 16.481661718273173,\n",
       " 16.477874571738642,\n",
       " 16.603797194011754,\n",
       " 16.531841409855687,\n",
       " 16.423907733621594,\n",
       " 16.6577640321288,\n",
       " 16.89162033063601,\n",
       " 16.531841409855687,\n",
       " 16.423907733621594,\n",
       " 16.369940895504545,\n",
       " 16.693741924206833,\n",
       " 16.549830355894706,\n",
       " 16.675752978167818,\n",
       " 16.56781930193372,\n",
       " 16.369940895504545,\n",
       " 16.78368665440191,\n",
       " 16.74770876232388,\n",
       " 16.262007219270448,\n",
       " 16.585808247972736,\n",
       " 16.279996165309466,\n",
       " 16.33396300342651,\n",
       " 16.513852463816672,\n",
       " 16.477874571738642,\n",
       " 16.531841409855687,\n",
       " 16.639775086089784,\n",
       " 16.639775086089784,\n",
       " 16.549830355894706,\n",
       " 16.36994089550455,\n",
       " 16.603797194011754,\n",
       " 16.369940895504545,\n",
       " 16.44189667966061,\n",
       " 16.387929841543563,\n",
       " 16.6577640321288,\n",
       " 16.62178614005077,\n",
       " 16.423907733621594,\n",
       " 16.44189667966061,\n",
       " 16.657764032128803,\n",
       " 16.675752978167814,\n",
       " 16.585808247972736,\n",
       " 16.585808247972736,\n",
       " 16.262007219270448,\n",
       " 16.585808247972736,\n",
       " 16.60379719401175,\n",
       " 16.459885625699627,\n",
       " 16.44189667966061,\n",
       " 16.639775086089784,\n",
       " 16.53184140985569,\n",
       " 16.459885625699624,\n",
       " 16.53184140985569,\n",
       " 16.729719816284867,\n",
       " 16.405918787582575,\n",
       " 16.549830355894706,\n",
       " 16.657764032128803,\n",
       " 16.459885625699624,\n",
       " 16.35195194946553,\n",
       " 16.423907733621594,\n",
       " 16.495863517777657,\n",
       " 16.38792984154356,\n",
       " 16.603797194011754,\n",
       " 16.390770201444457,\n",
       " 16.226029327192418,\n",
       " 16.765697708362897,\n",
       " 16.369940895504545,\n",
       " 16.423907733621594,\n",
       " 16.531841409855687,\n",
       " 16.423907733621594,\n",
       " 16.56781930193372,\n",
       " 16.459885625699627,\n",
       " 16.369940895504545,\n",
       " 16.423907733621594,\n",
       " 16.40591878758258,\n",
       " 16.459885625699627,\n",
       " 16.40591878758258,\n",
       " 16.44189667966061,\n",
       " 16.44189667966061,\n",
       " 16.711730870245848,\n",
       " 16.35195194946553,\n",
       " 16.549830355894706,\n",
       " 16.74770876232388,\n",
       " 16.56781930193372,\n",
       " 16.333963003426515,\n",
       " 16.56781930193372,\n",
       " 16.657764032128803,\n",
       " 16.56781930193372,\n",
       " 16.639775086089784,\n",
       " 16.549830355894706,\n",
       " 16.36994089550455,\n",
       " 16.603797194011754,\n",
       " 16.459885625699627,\n",
       " 16.369940895504545,\n",
       " 16.603797194011754,\n",
       " 16.56781930193372,\n",
       " 16.531841409855687,\n",
       " 16.693741924206833,\n",
       " 16.35195194946553,\n",
       " 16.585808247972736,\n",
       " 16.87363138459699,\n",
       " 16.423907733621594,\n",
       " 16.981565060831088,\n",
       " 16.262007219270448,\n",
       " 16.56781930193372,\n",
       " 16.40591878758258,\n",
       " 16.549830355894706,\n",
       " 16.585808247972736,\n",
       " 16.459885625699627,\n",
       " 16.53184140985569,\n",
       " 16.62178614005077,\n",
       " 16.53184140985569,\n",
       " 16.819664546479945,\n",
       " 16.765697708362897,\n",
       " 16.531841409855687,\n",
       " 16.513852463816676,\n",
       " 16.441896679660612,\n",
       " 16.40591878758258,\n",
       " 16.423907733621594,\n",
       " 16.513852463816676,\n",
       " 16.38792984154356,\n",
       " 16.603797194011754,\n",
       " 16.451364545996935,\n",
       " 16.603797194011754,\n",
       " 16.603797194011754,\n",
       " 16.531841409855687,\n",
       " 16.423907733621594,\n",
       " 16.6577640321288,\n",
       " 16.89162033063601,\n",
       " 16.80167560044093,\n",
       " 16.459885625699627,\n",
       " 16.369940895504545,\n",
       " 16.693741924206833,\n",
       " 16.40591878758258,\n",
       " 16.44189667966061,\n",
       " 16.56781930193372,\n",
       " 16.369940895504545,\n",
       " 16.531841409855687,\n",
       " 16.549830355894706,\n",
       " 16.765697708362897,\n",
       " 16.08211775888029,\n",
       " 16.585808247972736,\n",
       " 16.33396300342651,\n",
       " 16.657764032128803,\n",
       " 16.963576114792073,\n",
       " 16.26200721927045,\n",
       " 16.639775086089784,\n",
       " 16.639775086089784,\n",
       " 16.855642438557975,\n",
       " 16.36994089550455,\n",
       " 16.603797194011754,\n",
       " 16.675752978167814,\n",
       " 16.53184140985569,\n",
       " 16.44189667966061,\n",
       " 16.208040381153403,\n",
       " 16.693741924206833,\n",
       " 16.459885625699627,\n",
       " 16.44189667966061,\n",
       " 16.495863517777657,\n",
       " 16.675752978167814,\n",
       " 16.154073543036354,\n",
       " 16.56781930193372,\n",
       " 16.74770876232388,\n",
       " 16.190051435114384,\n",
       " 16.60379719401175,\n",
       " 16.459885625699627,\n",
       " 16.819664546479945,\n",
       " 16.62178614005077,\n",
       " 16.53184140985569,\n",
       " 16.62178614005077,\n",
       " 16.62178614005077,\n",
       " 16.819664546479945,\n",
       " 16.29798511134848,\n",
       " 16.711730870245848,\n",
       " 16.26200721927045,\n",
       " 16.441896679660612,\n",
       " 16.40591878758258,\n",
       " 16.585808247972736,\n",
       " 16.513852463816676,\n",
       " 16.226029327192414,\n",
       " 16.603797194011754,\n",
       " 16.51195889054941,\n",
       " 16.71173087024585,\n",
       " 16.603797194011754,\n",
       " 16.531841409855687,\n",
       " 16.423907733621594,\n",
       " 16.74770876232388,\n",
       " 16.423907733621594,\n",
       " 16.531841409855687,\n",
       " 16.136084596997335,\n",
       " 16.477874571738642,\n",
       " 16.62178614005077,\n",
       " 16.549830355894706,\n",
       " 16.513852463816676,\n",
       " 16.711730870245848,\n",
       " 16.369940895504545,\n",
       " 16.78368665440191,\n",
       " 16.549830355894706,\n",
       " 16.477874571738642,\n",
       " 16.58580824797274,\n",
       " 16.279996165309466,\n",
       " 16.729719816284867,\n",
       " 16.495863517777657,\n",
       " 16.477874571738642,\n",
       " 16.74770876232388,\n",
       " 16.639775086089784,\n",
       " 16.765697708362897,\n",
       " 16.765697708362897,\n",
       " 16.36994089550455,\n",
       " 16.513852463816672,\n",
       " 16.657764032128803,\n",
       " 16.53184140985569,\n",
       " 16.387929841543563,\n",
       " 16.819664546479945,\n",
       " 16.531841409855687,\n",
       " 16.369940895504545,\n",
       " 16.711730870245848,\n",
       " 16.549830355894706,\n",
       " 16.459885625699627,\n",
       " 16.531841409855687,\n",
       " 16.53184140985569,\n",
       " 16.262007219270448,\n",
       " 16.459885625699624,\n",
       " 16.675752978167818,\n",
       " 16.459885625699627,\n",
       " 16.477874571738642,\n",
       " 16.244018273231433,\n",
       " 16.387929841543563,\n",
       " 16.35195194946553,\n",
       " 16.74770876232388,\n",
       " 16.58580824797274,\n",
       " 16.405918787582575,\n",
       " 16.549830355894706,\n",
       " 16.513852463816672,\n",
       " 16.441896679660612,\n",
       " 16.567819301933724,\n",
       " 16.423907733621594,\n",
       " 16.675752978167818,\n",
       " 16.71173087024585,\n",
       " 16.44189667966061,\n",
       " 16.481661718273173,\n",
       " 16.603797194011754,\n",
       " 16.495863517777657,\n",
       " 16.495863517777657,\n",
       " 16.603797194011754,\n",
       " 16.26200721927045,\n",
       " 16.38792984154356,\n",
       " 16.80167560044093,\n",
       " 16.657764032128803,\n",
       " 16.549830355894706,\n",
       " 16.44189667966061,\n",
       " 16.40591878758258,\n",
       " 16.495863517777657,\n",
       " 16.549830355894706,\n",
       " 16.369940895504545,\n",
       " 16.44189667966061,\n",
       " 16.495863517777657,\n",
       " 16.262007219270448,\n",
       " 16.08211775888029,\n",
       " 16.74770876232388,\n",
       " 16.729719816284867,\n",
       " 16.603797194011754,\n",
       " 16.62178614005077,\n",
       " 16.26200721927045,\n",
       " 16.423907733621594,\n",
       " 16.639775086089784,\n",
       " 16.855642438557975,\n",
       " 16.36994089550455,\n",
       " 16.603797194011754,\n",
       " 16.369940895504545,\n",
       " 16.657764032128803,\n",
       " 16.44189667966061,\n",
       " 16.56781930193372,\n",
       " 16.11809565095832,\n",
       " 16.44189667966061,\n",
       " 16.44189667966061,\n",
       " 16.7656977083629,\n",
       " 16.675752978167814,\n",
       " 16.154073543036354,\n",
       " 16.585808247972736,\n",
       " 16.549830355894706,\n",
       " 16.89162033063601,\n",
       " 16.60379719401175,\n",
       " 16.53184140985569,\n",
       " 16.819664546479945,\n",
       " 16.56781930193372,\n",
       " 16.53184140985569,\n",
       " 16.11809565095832,\n",
       " 16.477874571738642,\n",
       " 16.819664546479945,\n",
       " 16.459885625699624,\n",
       " 16.549830355894706,\n",
       " 16.513852463816672,\n",
       " 16.603797194011754,\n",
       " 16.603797194011754,\n",
       " 16.513852463816672,\n",
       " 16.58580824797274,\n",
       " 16.639775086089784,\n",
       " 16.47787457173864,\n",
       " 16.663444751930598,\n",
       " 16.262007219270448,\n",
       " 16.585808247972736,\n",
       " 16.495863517777657,\n",
       " 16.675752978167814,\n",
       " 16.29798511134848,\n",
       " 16.38792984154356,\n",
       " 16.35195194946553,\n",
       " 16.693741924206833,\n",
       " 16.459885625699627,\n",
       " 16.423907733621594,\n",
       " 16.36994089550455,\n",
       " 16.675752978167818,\n",
       " 16.495863517777657,\n",
       " 16.58580824797274,\n",
       " 16.729719816284867,\n",
       " 16.17206248907537,\n",
       " 16.765697708362897,\n",
       " 16.549830355894706,\n",
       " 16.40591878758258,\n",
       " 16.315974057387496,\n",
       " 16.711730870245848,\n",
       " 16.963576114792073,\n",
       " 16.74770876232388,\n",
       " 16.639775086089784,\n",
       " 16.154073543036354,\n",
       " 16.855642438557975,\n",
       " 16.53184140985569,\n",
       " 16.639775086089784,\n",
       " 16.56781930193372,\n",
       " 16.369940895504545,\n",
       " 16.423907733621594,\n",
       " 16.639775086089784,\n",
       " 16.531841409855687,\n",
       " 16.423907733621594,\n",
       " 16.62178614005077,\n",
       " 16.7656977083629,\n",
       " 16.459885625699627,\n",
       " 16.495863517777657,\n",
       " 16.53184140985569,\n",
       " 16.262007219270448,\n",
       " 16.459885625699624,\n",
       " 16.40591878758258,\n",
       " 16.53184140985569,\n",
       " 16.693741924206833,\n",
       " 16.56781930193372,\n",
       " 16.693741924206833,\n",
       " 16.62178614005077,\n",
       " 16.74770876232388,\n",
       " 16.423907733621594,\n",
       " 16.513852463816676,\n",
       " 16.639775086089784,\n",
       " 16.495863517777657,\n",
       " 16.62178614005077,\n",
       " 16.567819301933724,\n",
       " 16.603797194011754,\n",
       " 16.495863517777657,\n",
       " 16.226029327192414,\n",
       " 16.44189667966061,\n",
       " 16.390770201444457,\n",
       " 16.603797194011754,\n",
       " 16.495863517777657,\n",
       " 16.58580824797274,\n",
       " 16.603797194011754,\n",
       " 16.29798511134848,\n",
       " 16.585808247972736,\n",
       " 16.35195194946553,\n",
       " 16.657764032128803,\n",
       " 16.477874571738642,\n",
       " 16.459885625699627,\n",
       " 16.549830355894706,\n",
       " 16.333963003426515,\n",
       " 16.56781930193372,\n",
       " 16.531841409855687,\n",
       " 16.729719816284867,\n",
       " 16.17206248907537,\n",
       " 16.765697708362897,\n",
       " 16.639775086089784,\n",
       " 16.585808247972736,\n",
       " 16.56781930193372,\n",
       " 16.603797194011754,\n",
       " 16.477874571738642,\n",
       " 16.74770876232388,\n",
       " 16.80167560044093,\n",
       " 16.154073543036354,\n",
       " 16.855642438557975,\n",
       " 16.58580824797274,\n",
       " 16.819664546479945,\n",
       " 16.513852463816672,\n",
       " 16.369940895504545,\n",
       " 16.44189667966061,\n",
       " 16.639775086089784,\n",
       " 16.74770876232388,\n",
       " 16.423907733621594,\n",
       " 16.711730870245848,\n",
       " 16.7656977083629,\n",
       " 16.87363138459699,\n",
       " 16.7656977083629,\n",
       " 16.549830355894706,\n",
       " 16.262007219270448,\n",
       " 16.89162033063601,\n",
       " 16.477874571738642,\n",
       " 16.53184140985569,\n",
       " 16.208040381153403,\n",
       " 16.44189667966061,\n",
       " 16.53184140985569,\n",
       " 16.74770876232388,\n",
       " 16.74770876232388,\n",
       " 16.44189667966061,\n",
       " 16.405918787582575,\n",
       " 16.459885625699627,\n",
       " 16.513852463816672,\n",
       " 16.62178614005077,\n",
       " 16.83765349251896,\n",
       " 16.513852463816672,\n",
       " 16.675752978167818,\n",
       " 16.38792984154356,\n",
       " 16.47787457173864,\n",
       " 16.663444751930598]"
      ]
     },
     "execution_count": 10,
     "metadata": {},
     "output_type": "execute_result"
    }
   ],
   "source": [
    "history['train']['loss']"
   ]
  },
  {
   "cell_type": "code",
   "execution_count": 11,
   "id": "890ad2cd",
   "metadata": {},
   "outputs": [
    {
     "data": {
      "text/plain": [
       "5455555562.0"
      ]
     },
     "execution_count": 11,
     "metadata": {},
     "output_type": "execute_result"
    }
   ],
   "source": [
    "a = list(set(abs(model.trainable_layers[1].weights_gradient.flatten())))\n",
    "np.mean(a)"
   ]
  },
  {
   "cell_type": "code",
   "execution_count": 12,
   "id": "7ed8a543",
   "metadata": {},
   "outputs": [
    {
     "data": {
      "text/plain": [
       "0.0"
      ]
     },
     "execution_count": 12,
     "metadata": {},
     "output_type": "execute_result"
    }
   ],
   "source": [
    "np.abs(model.trainable_layers[0].weights_gradient.flatten()).mean()"
   ]
  },
  {
   "cell_type": "code",
   "execution_count": 13,
   "id": "68aeb9a7",
   "metadata": {},
   "outputs": [
    {
     "data": {
      "image/png": "[encoded data removed]",
      "text/plain": [
       "<Figure size 432x288 with 1 Axes>"
      ]
     },
     "metadata": {
      "needs_background": "light"
     },
     "output_type": "display_data"
    },
    {
     "data": {
      "image/png": "[encoded data removed]",
      "text/plain": [
       "<Figure size 432x288 with 1 Axes>"
      ]
     },
     "metadata": {
      "needs_background": "light"
     },
     "output_type": "display_data"
    },
    {
     "data": {
      "image/png": "[encoded data removed]",
      "text/plain": [
       "<Figure size 432x288 with 1 Axes>"
      ]
     },
     "metadata": {
      "needs_background": "light"
     },
     "output_type": "display_data"
    }
   ],
   "source": [
    "for key, value in history['train'].items():\n",
    "    plt.plot(value)\n",
    "    plt.title(key)\n",
    "    plt.show()"
   ]
  },
  {
   "cell_type": "code",
   "execution_count": 14,
   "id": "05f0d699",
   "metadata": {},
   "outputs": [
    {
     "data": {
      "text/plain": [
       "array([[0., 0., 0., 0., 0., 0., 0., 0., 1., 0.]])"
      ]
     },
     "execution_count": 14,
     "metadata": {},
     "output_type": "execute_result"
    }
   ],
   "source": [
    "a = model.forward(X_train[0])\n",
    "a"
   ]
  },
  {
   "cell_type": "code",
   "execution_count": 15,
   "id": "0b3e0c51",
   "metadata": {},
   "outputs": [
    {
     "data": {
      "text/plain": [
       "'\\ndef train(model, X: np.ndarray, y: np.ndarray, optimizer: Optimizer, loss, epochs: int, batch_size: int = 32, verbose: bool = True):\\n    for epoch in range(epochs):\\n        for X_batch, y_batch in get_batches(X, y, batch_size):\\n            y_pred = model.forward(X_batch)\\n            loss_gradient = loss.gradient(y_batch, y_pred)\\n            model.backward(loss_gradient)\\n            optimizer.step()\\n        if verbose:\\n            print(f\"Epoch {epoch + 1}/{epochs} loss: {loss(y_batch, y_pred)}\")\\n'"
      ]
     },
     "execution_count": 15,
     "metadata": {},
     "output_type": "execute_result"
    }
   ],
   "source": [
    "\"\"\"\n",
    "def train(model, X: np.ndarray, y: np.ndarray, optimizer: Optimizer, loss, epochs: int, batch_size: int = 32, verbose: bool = True):\n",
    "    for epoch in range(epochs):\n",
    "        for X_batch, y_batch in get_batches(X, y, batch_size):\n",
    "            y_pred = model.forward(X_batch)\n",
    "            loss_gradient = loss.gradient(y_batch, y_pred)\n",
    "            model.backward(loss_gradient)\n",
    "            optimizer.step()\n",
    "        if verbose:\n",
    "            print(f\"Epoch {epoch + 1}/{epochs} loss: {loss(y_batch, y_pred)}\")\n",
    "\"\"\""
   ]
  },
  {
   "cell_type": "code",
   "execution_count": null,
   "id": "422a1696",
   "metadata": {},
   "outputs": [],
   "source": []
  },
  {
   "cell_type": "code",
   "execution_count": 16,
   "id": "0cb29b97",
   "metadata": {},
   "outputs": [
    {
     "name": "stderr",
     "output_type": "stream",
     "text": [
      "c:\\Users\\SystemPoint\\AppData\\Local\\Programs\\Python\\Python310\\lib\\site-packages\\tqdm\\auto.py:22: TqdmWarning: IProgress not found. Please update jupyter and ipywidgets. See https://ipywidgets.readthedocs.io/en/stable/user_install.html\n",
      "  from .autonotebook import tqdm as notebook_tqdm\n"
     ]
    }
   ],
   "source": [
    "import torch"
   ]
  },
  {
   "cell_type": "code",
   "execution_count": 17,
   "id": "9bab0db3",
   "metadata": {},
   "outputs": [],
   "source": [
    "\n",
    "\n",
    "X_train_torch = torch.from_numpy(X_train).float()\n",
    "y_train_torch = torch.from_numpy(y_train)\n",
    "\n",
    "X_test_torch = torch.from_numpy(X_test).float()\n",
    "y_test_torch = torch.from_numpy(y_test)\n",
    "\n",
    "def train_torch(model, X_train: torch.Tensor, y_train: torch.Tensor, X_test: torch.Tensor, y_test: torch.Tensor,\n",
    "          optimizer, loss, epochs: int, batch_size: int):\n",
    "    \n",
    "    metric_names = ['loss', 'accuracy', 'f1_score']\n",
    "    history = {phase_name: {metric_name: [] for metric_name in metric_names} for phase_name in ['train', 'test']}\n",
    "\n",
    "    for i in range(epochs):\n",
    "        for j in range(0, X_train.shape[0], batch_size):\n",
    "            # print(f\"epoch {i} batch {j}\")\n",
    "            X_b_train = X_train[j:j+batch_size]\n",
    "            y_b_train = y_train[j:j+batch_size]\n",
    "            y_pred = model(X_b_train)\n",
    "            loss_val = loss(y_pred, y_b_train)\n",
    "            optimizer.zero_grad()\n",
    "            loss_val.backward()\n",
    "            optimizer.step()\n",
    "\n",
    "            y_pred_label = np.argmax(y_pred.detach().numpy(), axis=1)\n",
    "            y_true_label = np.argmax(y_b_train.detach().numpy(), axis=1)\n",
    "\n",
    "            history['train']['accuracy'].append(np.mean(y_pred_label == y_true_label).item())\n",
    "            history['train']['loss'].append(loss_val.item())\n",
    "            history['train']['f1_score'].append(f1_score(y_true_label, y_pred_label, average='macro').item())\n",
    "\n",
    "    return history"
   ]
  },
  {
   "cell_type": "code",
   "execution_count": 18,
   "id": "1f8bee91",
   "metadata": {},
   "outputs": [
    {
     "data": {
      "text/plain": [
       "array([1, 1, 1], dtype=int64)"
      ]
     },
     "execution_count": 18,
     "metadata": {},
     "output_type": "execute_result"
    }
   ],
   "source": [
    "np.argmax([[1, 2, 3], [4, 5, 6]], axis = 0)"
   ]
  },
  {
   "cell_type": "code",
   "execution_count": 19,
   "id": "4b4f4d95",
   "metadata": {},
   "outputs": [
    {
     "data": {
      "text/plain": [
       "torch.float32"
      ]
     },
     "execution_count": 19,
     "metadata": {},
     "output_type": "execute_result"
    }
   ],
   "source": [
    "X_train_torch.dtype"
   ]
  },
  {
   "cell_type": "code",
   "execution_count": 20,
   "id": "7bcd5113",
   "metadata": {},
   "outputs": [],
   "source": [
    "model_torch = torch.nn.Sequential(\n",
    "    torch.nn.Linear(28*28, 100),\n",
    "    torch.nn.ReLU(),\n",
    "    torch.nn.Linear(100, 10),\n",
    "    torch.nn.Softmax(dim = 1)\n",
    ")\n",
    "\n",
    "weights_data_torch = []\n",
    "\n",
    "optimizer_torch = torch.optim.Adam(model_torch.parameters(), lr=1e-3)\n",
    "\n",
    "loss_torch = torch.nn.CrossEntropyLoss()\n",
    "\n",
    "history_torch = train_torch(model_torch, X_train_torch, y_train_torch, X_test_torch, y_test_torch, optimizer_torch, loss_torch, 10, 4096)"
   ]
  },
  {
   "cell_type": "code",
   "execution_count": 21,
   "id": "b8ba5560",
   "metadata": {},
   "outputs": [],
   "source": [
    "# list(model_torch.parameters())"
   ]
  },
  {
   "cell_type": "code",
   "execution_count": 22,
   "id": "bc9f425f",
   "metadata": {},
   "outputs": [
    {
     "data": {
      "image/png": "[encoded data removed]",
      "text/plain": [
       "<Figure size 432x288 with 1 Axes>"
      ]
     },
     "metadata": {
      "needs_background": "light"
     },
     "output_type": "display_data"
    },
    {
     "data": {
      "image/png": "[encoded data removed]",
      "text/plain": [
       "<Figure size 432x288 with 1 Axes>"
      ]
     },
     "metadata": {
      "needs_background": "light"
     },
     "output_type": "display_data"
    },
    {
     "data": {
      "image/png": "[encoded data removed]",
      "text/plain": [
       "<Figure size 432x288 with 1 Axes>"
      ]
     },
     "metadata": {
      "needs_background": "light"
     },
     "output_type": "display_data"
    }
   ],
   "source": [
    "for key, value in history_torch['train'].items():\n",
    "    plt.plot(value[:100])\n",
    "    plt.title(key)\n",
    "    plt.show()"
   ]
  },
  {
   "cell_type": "code",
   "execution_count": 23,
   "id": "4ad4ae17",
   "metadata": {},
   "outputs": [
    {
     "data": {
      "text/plain": [
       "2.3664378443791065"
      ]
     },
     "execution_count": 23,
     "metadata": {},
     "output_type": "execute_result"
    }
   ],
   "source": [
    "history_torch['train']['loss'][0]"
   ]
  },
  {
   "cell_type": "code",
   "execution_count": 24,
   "id": "cd1eb059",
   "metadata": {},
   "outputs": [
    {
     "name": "stdout",
     "output_type": "stream",
     "text": [
      "(784, 100) torch.Size([100, 784]) (1, 100) torch.Size([100])\n",
      "False\n",
      "0.005880244\n",
      "tensor([[0., 0., 0.,  ..., 0., 0., 0.],\n",
      "        [0., 0., 0.,  ..., 0., 0., 0.],\n",
      "        [0., 0., 0.,  ..., 0., 0., 0.],\n",
      "        ...,\n",
      "        [0., 0., 0.,  ..., 0., 0., 0.],\n",
      "        [0., 0., 0.,  ..., 0., 0., 0.],\n",
      "        [0., 0., 0.,  ..., 0., 0., 0.]])\n",
      "(10, 784)\n",
      "620093600.0\n",
      "False\n"
     ]
    }
   ],
   "source": [
    "import torch\n",
    "torch.use_deterministic_algorithms(True)\n",
    "\n",
    "batch_size = 10\n",
    "\n",
    "my_fc = FullyConnectedLayer(28*28, 100)\n",
    "torch_fc = torch.nn.Linear(28*28, 100)\n",
    "print(my_fc.weights.shape, torch_fc.weight.shape, my_fc.bias.shape, torch_fc.bias.shape)\n",
    "my_fc.weights = torch_fc.weight.detach().numpy().T\n",
    "my_fc.bias = torch_fc.bias.detach().numpy().reshape(-1, 1).T\n",
    "\n",
    "my_out = my_fc.forward(X_train[0: batch_size].reshape(batch_size, -1))\n",
    "torch_out = torch_fc(torch.from_numpy(X_train[0: batch_size]).float())\n",
    "torch_out_np = torch_out.detach().numpy()\n",
    "\n",
    "print(np.allclose(my_out, torch_out_np))\n",
    "print(np.abs(my_out - torch_out_np).sum())\n",
    "\n",
    "t_s = torch.sum(torch_out)\n",
    "t_s.backward()\n",
    "\n",
    "print(torch_fc.weight.grad)\n",
    "\n",
    "\n",
    "\n",
    "print(my_fc.input_.shape)\n",
    "my_in_g = my_fc.backward(my_out)\n",
    "\n",
    "my_wg = my_fc.weights_gradient\n",
    "torch_wg = torch_fc.weight.grad.detach().numpy().T\n",
    "gradien_close = np.allclose(my_wg, torch_wg)\n",
    "\n",
    "wg_diff = np.abs(my_wg - torch_wg)\n",
    "print(wg_diff.sum())\n",
    "\n",
    "print(gradien_close)"
   ]
  },
  {
   "cell_type": "code",
   "execution_count": 25,
   "id": "f7b9877b",
   "metadata": {},
   "outputs": [],
   "source": [
    "torch_wg1 = torch_fc.weight.grad.detach().numpy().T"
   ]
  },
  {
   "cell_type": "code",
   "execution_count": 26,
   "id": "9bbcf44e",
   "metadata": {},
   "outputs": [
    {
     "data": {
      "text/plain": [
       "298.85715"
      ]
     },
     "execution_count": 26,
     "metadata": {},
     "output_type": "execute_result"
    }
   ],
   "source": [
    "torch_wg.mean()"
   ]
  },
  {
   "cell_type": "code",
   "execution_count": 27,
   "id": "a287af79",
   "metadata": {},
   "outputs": [
    {
     "data": {
      "text/plain": [
       "768.76776"
      ]
     },
     "execution_count": 27,
     "metadata": {},
     "output_type": "execute_result"
    }
   ],
   "source": [
    "my_wg.mean()"
   ]
  },
  {
   "cell_type": "code",
   "execution_count": 28,
   "id": "c380130a",
   "metadata": {},
   "outputs": [
    {
     "data": {
      "text/plain": [
       "(784, 100)"
      ]
     },
     "execution_count": 28,
     "metadata": {},
     "output_type": "execute_result"
    }
   ],
   "source": [
    "my_fc.weights.shape"
   ]
  },
  {
   "cell_type": "code",
   "execution_count": null,
   "id": "89157db0",
   "metadata": {},
   "outputs": [],
   "source": []
  },
  {
   "cell_type": "code",
   "execution_count": 29,
   "id": "c5076adb",
   "metadata": {},
   "outputs": [
    {
     "data": {
      "text/plain": [
       "torch.Size([100, 784])"
      ]
     },
     "execution_count": 29,
     "metadata": {},
     "output_type": "execute_result"
    }
   ],
   "source": [
    "torch_fc.weight.shape"
   ]
  },
  {
   "cell_type": "code",
   "execution_count": 30,
   "id": "5f9e7ee4",
   "metadata": {},
   "outputs": [
    {
     "data": {
      "text/plain": [
       "Parameter containing:\n",
       "tensor([[-0.0073, -0.0264,  0.0349,  ...,  0.0314,  0.0117, -0.0345],\n",
       "        [ 0.0069,  0.0036,  0.0178,  ...,  0.0102,  0.0111,  0.0111],\n",
       "        [-0.0014,  0.0140, -0.0118,  ...,  0.0354, -0.0013, -0.0144],\n",
       "        ...,\n",
       "        [-0.0163,  0.0274,  0.0268,  ...,  0.0250, -0.0295, -0.0105],\n",
       "        [-0.0278, -0.0094,  0.0080,  ...,  0.0145, -0.0141,  0.0357],\n",
       "        [-0.0060, -0.0035,  0.0265,  ...,  0.0074,  0.0150,  0.0225]],\n",
       "       requires_grad=True)"
      ]
     },
     "execution_count": 30,
     "metadata": {},
     "output_type": "execute_result"
    }
   ],
   "source": [
    "torch_fc.weight"
   ]
  },
  {
   "cell_type": "code",
   "execution_count": 31,
   "id": "8f8067ce",
   "metadata": {},
   "outputs": [
    {
     "data": {
      "text/plain": [
       "tensor([ 104.5143,   78.8784, -102.6199,  -99.9646,  -94.2891,  -48.4189,\n",
       "          -1.9713,   22.6838,  -72.7144,  -36.4055,   20.2384,   35.3772,\n",
       "          10.9926,  -36.4755,   29.9517,  -30.7574,   44.8759,  -39.3488,\n",
       "          55.2146,  -22.4634,   46.3063,   63.7609,  -20.8011,  -27.8343,\n",
       "         -74.7733,  -12.9746,  -80.6986,  -33.7447,   58.2710,  -62.3799,\n",
       "         -42.7273,  -32.5890,   16.5239,  -95.7252,   -3.4959,    1.1029,\n",
       "          25.7148,   -8.5825,   88.6211,    8.0188,  -22.0131,  -29.0287,\n",
       "         -67.6176,   23.6517,   22.8029,  -51.2508,  -83.4126,  -14.6543,\n",
       "         -88.2074,   32.4986,   55.8348,   48.8746,   12.3014,   -2.5220,\n",
       "          40.2459,  -15.7658,  -57.9999,   32.1756,    8.4456,  -10.1059,\n",
       "          65.2811,  -29.8653,  -32.4102,   78.8573,   28.4448,  -11.8263,\n",
       "          36.3965,   74.1591,  -72.1625,   30.2102,   46.4341,   38.5306,\n",
       "         -33.9602,   39.2469,   64.4754,   -1.7806, -105.6656,   72.0015,\n",
       "           2.7908,  -82.2083,   19.3539,   60.3757,   34.7736,   44.6703,\n",
       "         -22.8321,  -34.8423,  -22.1865,  110.6489,  -32.0125,   25.0276,\n",
       "         -21.8082,  152.1926,  -22.2391,   43.3402,   47.4426,   22.2122,\n",
       "          -3.4882,  -49.6525,    9.6068,   40.1149], grad_fn=<AddBackward0>)"
      ]
     },
     "execution_count": 31,
     "metadata": {},
     "output_type": "execute_result"
    }
   ],
   "source": [
    "torch_fc = torch.nn.Linear(28*28, 100)\n",
    "torch_fc(X_train_torch[0])\n",
    "\n"
   ]
  },
  {
   "cell_type": "code",
   "execution_count": 32,
   "id": "0b9ae1f3",
   "metadata": {},
   "outputs": [
    {
     "data": {
      "text/plain": [
       "array([ 6, 15])"
      ]
     },
     "execution_count": 32,
     "metadata": {},
     "output_type": "execute_result"
    }
   ],
   "source": [
    "np.sum([[1,2,3], [4,5,6]], axis  =1)"
   ]
  },
  {
   "cell_type": "code",
   "execution_count": null,
   "id": "909ae014",
   "metadata": {},
   "outputs": [],
   "source": []
  }
 ],
 "metadata": {
  "kernelspec": {
   "display_name": "Python 3",
   "language": "python",
   "name": "python3"
  },
  "language_info": {
   "codemirror_mode": {
    "name": "ipython",
    "version": 3
   },
   "file_extension": ".py",
   "mimetype": "text/x-python",
   "name": "python",
   "nbconvert_exporter": "python",
   "pygments_lexer": "ipython3",
   "version": "3.10.4 (tags/v3.10.4:9d38120, Mar 23 2022, 23:13:41) [MSC v.1929 64 bit (AMD64)]"
  },
  "vscode": {
   "interpreter": {
    "hash": "2bbf79ea567ebf64b92b9cf68f2b08a0cf8db5ff8a7f29f56d99d802810464d9"
   }
  }
 },
 "nbformat": 4,
 "nbformat_minor": 5
}
