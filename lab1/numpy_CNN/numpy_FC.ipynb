{
 "cells": [
  {
   "cell_type": "code",
   "execution_count": 1,
   "id": "59a56421",
   "metadata": {},
   "outputs": [],
   "source": [
    "import numpy as np\n",
    "from keras.datasets import mnist\n",
    "from sklearn.model_selection import train_test_split\n",
    "from sklearn.metrics import f1_score\n",
    "import matplotlib.pyplot as plt\n",
    "from tqdm import tqdm\n",
    "\n",
    "from NumpyNN.NN_np import (\n",
    "    FullyConnectedLayer,\n",
    "    ReLULayer,\n",
    "    SigmoidLayer,\n",
    "    ReLULayer,\n",
    "    AdamOptimizer,\n",
    "    CrossEntropyLoss,\n",
    "    LinearActivation,\n",
    "    Optimizer,\n",
    "    SoftMaxLayer,\n",
    "    GradientDescentOptimizer,\n",
    "    CrossEntropyLossWithSoftMax,\n",
    "    softmax,\n",
    "    Conv2d,\n",
    "    SequentialFullyConnected\n",
    ")"
   ]
  },
  {
   "cell_type": "code",
   "execution_count": 2,
   "id": "c2bfd8b8",
   "metadata": {},
   "outputs": [
    {
     "data": {
      "text/plain": [
       "<Figure size 432x288 with 0 Axes>"
      ]
     },
     "metadata": {},
     "output_type": "display_data"
    }
   ],
   "source": [
    "plt.gray()"
   ]
  },
  {
   "cell_type": "code",
   "execution_count": 3,
   "id": "6ebb2342",
   "metadata": {},
   "outputs": [],
   "source": [
    "def one_hot(y: np.ndarray, n_classes: int):\n",
    "    encoded = np.zeros((y.size, n_classes))\n",
    "    encoded[np.arange(y.size), y] = 1\n",
    "    return encoded"
   ]
  },
  {
   "cell_type": "code",
   "execution_count": 4,
   "id": "fb42decb",
   "metadata": {},
   "outputs": [],
   "source": [
    "((X_train, y_train), (X_test, y_test)) = mnist.load_data()\n",
    "\n",
    "X_train = X_train.reshape(-1, 28 * 28)\n",
    "X_test = X_test.reshape(-1, 28 * 28)\n",
    "y_train = one_hot(y_train, 10)\n",
    "y_test = one_hot(y_test, 10)"
   ]
  },
  {
   "cell_type": "code",
   "execution_count": 5,
   "id": "a65c5ad2",
   "metadata": {},
   "outputs": [
    {
     "data": {
      "text/plain": [
       "((60000, 10), (60000, 784))"
      ]
     },
     "execution_count": 5,
     "metadata": {},
     "output_type": "execute_result"
    }
   ],
   "source": [
    "y_train.shape, X_train.shape"
   ]
  },
  {
   "cell_type": "code",
   "execution_count": 16,
   "id": "fbe5ee04",
   "metadata": {},
   "outputs": [
    {
     "data": {
      "text/plain": [
       "<matplotlib.image.AxesImage at 0x1b0e75649a0>"
      ]
     },
     "execution_count": 16,
     "metadata": {},
     "output_type": "execute_result"
    },
    {
     "data": {
      "image/png": "[encoded data removed]",
      "text/plain": [
       "<Figure size 432x288 with 1 Axes>"
      ]
     },
     "metadata": {
      "needs_background": "light"
     },
     "output_type": "display_data"
    }
   ],
   "source": [
    "plt.title(f\"true label: {np.argmax(y_train[0])}\")\n",
    "plt.imshow(X_train[0].reshape(28, 28))"
   ]
  },
  {
   "cell_type": "code",
   "execution_count": 7,
   "id": "c452a511",
   "metadata": {},
   "outputs": [
    {
     "data": {
      "text/plain": [
       "'\\nmean_trainable_layers = []\\n\\ndef train(model, X_train: np.ndarray, y_train: np.ndarray, X_test: np.ndarray, y_test: np.ndarray,\\n          optimizer: Optimizer, loss, epochs: int, batch_size: int):\\n    global mean_trainable_layers\\n    mean_trainable_layers = []\\n    metric_names = [\\'loss\\', \\'accuracy\\', \\'f1_score\\']\\n    history = {phase_name: {metric_name: [] for metric_name in metric_names} for phase_name in [\\'train\\', \\'test\\']}\\n\\n    for i in range(epochs):\\n        for j in range(0, X_train.shape[0], batch_size):\\n            # print(f\"epoch {i} batch {j}\")\\n            X_b_train = X_train[j:j+batch_size]\\n            y_b_train = y_train[j:j+batch_size]\\n            y_pred = model.forward(X_b_train)\\n            loss_val = loss.forward(y_pred, y_b_train)\\n            loss_gradient = loss.backward()\\n            model.backward(loss_gradient)\\n            optimizer.step()\\n\\n            y_pred_label = np.argmax(y_pred, axis=1)\\n            y_true_label = np.argmax(y_b_train, axis=1)\\n\\n            history[\\'train\\'][\\'accuracy\\'].append(np.mean(y_pred_label == y_true_label))\\n            history[\\'train\\'][\\'loss\\'].append(loss_val)\\n            history[\\'train\\'][\\'f1_score\\'].append(f1_score(y_true_label, y_pred_label, average=\\'macro\\'))\\n\\n            wd = [\\n                np.mean([np.mean(layer.weights) for layer in model.trainable_layers]),\\n                np.max([np.max(layer.weights) for layer in model.trainable_layers]),\\n                np.mean([np.mean(layer.weights_gradient) for layer in model.trainable_layers]),\\n                np.max([np.max(layer.weights_gradient) for layer in model.trainable_layers])\\n            ]\\n            weights_data.append(wd)\\n\\n            uniq_gradient_vals = list(set(abs(model.trainable_layers[0].weights_gradient.flatten())))\\n            mean_trainable_layers.append(np.mean(uniq_gradient_vals))\\n\\n    return history\\n'"
      ]
     },
     "execution_count": 7,
     "metadata": {},
     "output_type": "execute_result"
    }
   ],
   "source": [
    "# in history we metrics for batches in the implementation below\n",
    "\"\"\"\n",
    "mean_trainable_layers = []\n",
    "\n",
    "def train(model, X_train: np.ndarray, y_train: np.ndarray, X_test: np.ndarray, y_test: np.ndarray,\n",
    "          optimizer: Optimizer, loss, epochs: int, batch_size: int):\n",
    "    global mean_trainable_layers\n",
    "    mean_trainable_layers = []\n",
    "    metric_names = ['loss', 'accuracy', 'f1_score']\n",
    "    history = {phase_name: {metric_name: [] for metric_name in metric_names} for phase_name in ['train', 'test']}\n",
    "\n",
    "    for i in range(epochs):\n",
    "        for j in range(0, X_train.shape[0], batch_size):\n",
    "            # print(f\"epoch {i} batch {j}\")\n",
    "            X_b_train = X_train[j:j+batch_size]\n",
    "            y_b_train = y_train[j:j+batch_size]\n",
    "            y_pred = model.forward(X_b_train)\n",
    "            loss_val = loss.forward(y_pred, y_b_train)\n",
    "            loss_gradient = loss.backward()\n",
    "            model.backward(loss_gradient)\n",
    "            optimizer.step()\n",
    "\n",
    "            y_pred_label = np.argmax(y_pred, axis=1)\n",
    "            y_true_label = np.argmax(y_b_train, axis=1)\n",
    "\n",
    "            history['train']['accuracy'].append(np.mean(y_pred_label == y_true_label))\n",
    "            history['train']['loss'].append(loss_val)\n",
    "            history['train']['f1_score'].append(f1_score(y_true_label, y_pred_label, average='macro'))\n",
    "\n",
    "            wd = [\n",
    "                np.mean([np.mean(layer.weights) for layer in model.trainable_layers]),\n",
    "                np.max([np.max(layer.weights) for layer in model.trainable_layers]),\n",
    "                np.mean([np.mean(layer.weights_gradient) for layer in model.trainable_layers]),\n",
    "                np.max([np.max(layer.weights_gradient) for layer in model.trainable_layers])\n",
    "            ]\n",
    "            weights_data.append(wd)\n",
    "\n",
    "            uniq_gradient_vals = list(set(abs(model.trainable_layers[0].weights_gradient.flatten())))\n",
    "            mean_trainable_layers.append(np.mean(uniq_gradient_vals))\n",
    "\n",
    "    return history\n",
    "\"\"\""
   ]
  },
  {
   "cell_type": "code",
   "execution_count": 7,
   "id": "f65ec9bc",
   "metadata": {},
   "outputs": [],
   "source": [
    "def train(model, X_train: np.ndarray, y_train: np.ndarray, X_test: np.ndarray, y_test: np.ndarray,\n",
    "          optimizer: Optimizer, loss, epochs: int, batch_size: int):\n",
    "\n",
    "    metric_names = ['loss', 'accuracy', 'f1_score']\n",
    "    history = {phase_name: {metric_name: [] for metric_name in metric_names} for phase_name in ['train', 'test']}\n",
    "    #history['train']['y_pred_labels'] = []\n",
    "    #history['train']['y_true_labels'] = []\n",
    "    history['train']['mean_trainable_layers'] = []\n",
    "    history['train']['weights_data'] = []\n",
    "    for i in tqdm(range(epochs)):\n",
    "        y_pred_labels = []\n",
    "        y_true_labels = []\n",
    "        epoch_loss = 0\n",
    "        for j in range(0, X_train.shape[0], batch_size):\n",
    "            # print(f\"epoch {i} batch {j}\")\n",
    "            X_b_train = X_train[j:j+batch_size]\n",
    "            y_b_train = y_train[j:j+batch_size]\n",
    "            y_pred = model.forward(X_b_train)\n",
    "            loss_val = loss.forward(y_pred, y_b_train)\n",
    "            loss_gradient = loss.backward()\n",
    "            model.backward(loss_gradient)\n",
    "            optimizer.step()\n",
    "\n",
    "            y_pred_label_b = np.argmax(y_pred, axis=1)\n",
    "            y_true_label_b = np.argmax(y_b_train, axis=1)\n",
    "\n",
    "\n",
    "            epoch_loss += loss_val.item()\n",
    "            y_pred_labels.extend(y_pred_label_b)\n",
    "            y_true_labels.extend(y_true_label_b)\n",
    "\n",
    "            wd = [\n",
    "                np.mean([np.mean(layer.weights) for layer in model.trainable_layers]),\n",
    "                np.max([np.max(layer.weights) for layer in model.trainable_layers]),\n",
    "                np.mean([np.mean(layer.weights_gradient) for layer in model.trainable_layers]),\n",
    "                np.max([np.max(layer.weights_gradient) for layer in model.trainable_layers])\n",
    "            ]\n",
    "            history['train']['weights_data'].append(wd)\n",
    "\n",
    "            uniq_gradient_vals = list(set(abs(model.trainable_layers[0].weights_gradient.flatten())))\n",
    "            history['train']['mean_trainable_layers'].append(np.mean(uniq_gradient_vals))\n",
    "        \n",
    "        #history['train']['y_pred_labels'].append(y_pred_labels)\n",
    "        #history['train']['y_true_labels'].append(y_true_labels)\n",
    "        history['train']['accuracy'].append(np.mean(np.array(y_pred_labels) == np.array(y_true_labels)))\n",
    "        history['train']['loss'].append(loss_val)\n",
    "        history['train']['f1_score'].append(f1_score(y_pred_labels, y_true_labels, average='macro'))\n",
    "\n",
    "    return history"
   ]
  },
  {
   "cell_type": "code",
   "execution_count": 27,
   "id": "d1ee6bb4",
   "metadata": {},
   "outputs": [
    {
     "name": "stderr",
     "output_type": "stream",
     "text": [
      "100%|██████████| 50/50 [02:38<00:00,  3.17s/it]\n"
     ]
    }
   ],
   "source": [
    "model = SequentialFullyConnected([28*28, 100, 10], [SigmoidLayer, LinearActivation])\n",
    "# optimizer = GradientDescentOptimizer(model.trainable_layers, learning_rate = 1e-3)\n",
    "optimizer = AdamOptimizer(model.trainable_layers, learning_rate = 1e-3)\n",
    "loss = CrossEntropyLossWithSoftMax()\n",
    "\n",
    "batch_size = 4096\n",
    "epochs = 50\n",
    "weights_data = []\n",
    "\n",
    "history = train(model, X_train, y_train, X_test, y_test, optimizer, loss, epochs, batch_size)"
   ]
  },
  {
   "cell_type": "code",
   "execution_count": null,
   "id": "e67b6c1d",
   "metadata": {},
   "outputs": [],
   "source": [
    "\"\"\"\n",
    "history2 = train(model, X_train, y_train, X_test, y_test, optimizer, loss, 20, batch_size)\n",
    "for key in history['train']:\n",
    "    history['train'][key].extend(history2['train'][key])\n",
    "\"\"\""
   ]
  },
  {
   "cell_type": "code",
   "execution_count": 9,
   "id": "890ad2cd",
   "metadata": {},
   "outputs": [
    {
     "data": {
      "text/plain": [
       "0.004709757530696931"
      ]
     },
     "execution_count": 9,
     "metadata": {},
     "output_type": "execute_result"
    }
   ],
   "source": [
    "a = list(set(abs(model.trainable_layers[1].weights_gradient.flatten())))\n",
    "np.mean(a)"
   ]
  },
  {
   "cell_type": "code",
   "execution_count": 10,
   "id": "7ed8a543",
   "metadata": {},
   "outputs": [
    {
     "data": {
      "text/plain": [
       "0.18471449648029603"
      ]
     },
     "execution_count": 10,
     "metadata": {},
     "output_type": "execute_result"
    }
   ],
   "source": [
    "np.abs(model.trainable_layers[0].weights_gradient.flatten()).mean()"
   ]
  },
  {
   "cell_type": "code",
   "execution_count": 29,
   "id": "68aeb9a7",
   "metadata": {},
   "outputs": [
    {
     "data": {
      "image/png": "[encoded data removed]",
      "text/plain": [
       "<Figure size 432x288 with 1 Axes>"
      ]
     },
     "metadata": {
      "needs_background": "light"
     },
     "output_type": "display_data"
    },
    {
     "data": {
      "image/png": "[encoded data removed]",
      "text/plain": [
       "<Figure size 432x288 with 1 Axes>"
      ]
     },
     "metadata": {
      "needs_background": "light"
     },
     "output_type": "display_data"
    },
    {
     "data": {
      "image/png": "[encoded data removed]",
      "text/plain": [
       "<Figure size 432x288 with 1 Axes>"
      ]
     },
     "metadata": {
      "needs_background": "light"
     },
     "output_type": "display_data"
    }
   ],
   "source": [
    "for key, value in history['train'].items():\n",
    "    if key in ['weights_data', 'mean_trainable_layers']:\n",
    "        continue\n",
    "    plt.plot(value)\n",
    "    plt.title(key)\n",
    "    plt.show()"
   ]
  },
  {
   "cell_type": "code",
   "execution_count": 15,
   "id": "05f0d699",
   "metadata": {},
   "outputs": [
    {
     "data": {
      "image/png": "[encoded data removed]",
      "text/plain": [
       "<Figure size 432x288 with 1 Axes>"
      ]
     },
     "metadata": {
      "needs_background": "light"
     },
     "output_type": "display_data"
    },
    {
     "data": {
      "image/png": "[encoded data removed]",
      "text/plain": [
       "<Figure size 432x288 with 1 Axes>"
      ]
     },
     "metadata": {
      "needs_background": "light"
     },
     "output_type": "display_data"
    },
    {
     "data": {
      "image/png": "[encoded data removed]",
      "text/plain": [
       "<Figure size 432x288 with 1 Axes>"
      ]
     },
     "metadata": {
      "needs_background": "light"
     },
     "output_type": "display_data"
    },
    {
     "data": {
      "image/png": "[encoded data removed]",
      "text/plain": [
       "<Figure size 432x288 with 1 Axes>"
      ]
     },
     "metadata": {
      "needs_background": "light"
     },
     "output_type": "display_data"
    },
    {
     "data": {
      "image/png": "[encoded data removed]",
      "text/plain": [
       "<Figure size 432x288 with 1 Axes>"
      ]
     },
     "metadata": {
      "needs_background": "light"
     },
     "output_type": "display_data"
    }
   ],
   "source": [
    "for i in range(5):\n",
    "    probs_i = softmax(model.forward(X_train[i]))\n",
    "    plt.title(f\"true label: {np.argmax(y_train[i])}\\n predicted label: {np.argmax(probs_i)}\")\n",
    "    plt.imshow(X_train[i].reshape(28, 28))\n",
    "    plt.show()"
   ]
  },
  {
   "cell_type": "code",
   "execution_count": 24,
   "id": "0b3e0c51",
   "metadata": {},
   "outputs": [
    {
     "data": {
      "text/plain": [
       "'\\ndef train(model, X: np.ndarray, y: np.ndarray, optimizer: Optimizer, loss, epochs: int, batch_size: int = 32, verbose: bool = True):\\n    for epoch in range(epochs):\\n        for X_batch, y_batch in get_batches(X, y, batch_size):\\n            y_pred = model.forward(X_batch)\\n            loss_gradient = loss.gradient(y_batch, y_pred)\\n            model.backward(loss_gradient)\\n            optimizer.step()\\n        if verbose:\\n            print(f\"Epoch {epoch + 1}/{epochs} loss: {loss(y_batch, y_pred)}\")\\n'"
      ]
     },
     "execution_count": 24,
     "metadata": {},
     "output_type": "execute_result"
    }
   ],
   "source": [
    "\"\"\"\n",
    "def train(model, X: np.ndarray, y: np.ndarray, optimizer: Optimizer, loss, epochs: int, batch_size: int = 32, verbose: bool = True):\n",
    "    for epoch in range(epochs):\n",
    "        for X_batch, y_batch in get_batches(X, y, batch_size):\n",
    "            y_pred = model.forward(X_batch)\n",
    "            loss_gradient = loss.gradient(y_batch, y_pred)\n",
    "            model.backward(loss_gradient)\n",
    "            optimizer.step()\n",
    "        if verbose:\n",
    "            print(f\"Epoch {epoch + 1}/{epochs} loss: {loss(y_batch, y_pred)}\")\n",
    "\"\"\""
   ]
  },
  {
   "cell_type": "code",
   "execution_count": 20,
   "id": "0cb29b97",
   "metadata": {},
   "outputs": [
    {
     "name": "stderr",
     "output_type": "stream",
     "text": [
      "c:\\Users\\SystemPoint\\AppData\\Local\\Programs\\Python\\Python310\\lib\\site-packages\\tqdm\\auto.py:22: TqdmWarning: IProgress not found. Please update jupyter and ipywidgets. See https://ipywidgets.readthedocs.io/en/stable/user_install.html\n",
      "  from .autonotebook import tqdm as notebook_tqdm\n"
     ]
    }
   ],
   "source": [
    "import torch"
   ]
  },
  {
   "cell_type": "code",
   "execution_count": 21,
   "id": "9bab0db3",
   "metadata": {},
   "outputs": [],
   "source": [
    "X_train_torch = torch.from_numpy(X_train).float()\n",
    "y_train_torch = torch.from_numpy(y_train)\n",
    "\n",
    "X_test_torch = torch.from_numpy(X_test).float()\n",
    "y_test_torch = torch.from_numpy(y_test)\n",
    "\n",
    "def train_torch(model, X_train: torch.Tensor, y_train: torch.Tensor, X_test: torch.Tensor, y_test: torch.Tensor,\n",
    "          optimizer, loss, epochs: int, batch_size: int):\n",
    "    \n",
    "    metric_names = ['loss', 'accuracy', 'f1_score']\n",
    "    history = {phase_name: {metric_name: [] for metric_name in metric_names} for phase_name in ['train', 'test']}\n",
    "\n",
    "    for i in range(epochs):\n",
    "        for j in range(0, X_train.shape[0], batch_size):\n",
    "            # print(f\"epoch {i} batch {j}\")\n",
    "            X_b_train = X_train[j:j+batch_size]\n",
    "            y_b_train = y_train[j:j+batch_size]\n",
    "            y_pred = model(X_b_train)\n",
    "            loss_val = loss(y_pred, y_b_train)\n",
    "            optimizer.zero_grad()\n",
    "            loss_val.backward()\n",
    "            optimizer.step()\n",
    "\n",
    "            y_pred_label = np.argmax(y_pred.detach().numpy(), axis=1)\n",
    "            y_true_label = np.argmax(y_b_train.detach().numpy(), axis=1)\n",
    "\n",
    "            history['train']['accuracy'].append(np.mean(y_pred_label == y_true_label).item())\n",
    "            history['train']['loss'].append(loss_val.item())\n",
    "            history['train']['f1_score'].append(f1_score(y_true_label, y_pred_label, average='macro').item())\n",
    "            \n",
    "    return history"
   ]
  },
  {
   "cell_type": "code",
   "execution_count": 22,
   "id": "1f8bee91",
   "metadata": {},
   "outputs": [
    {
     "data": {
      "text/plain": [
       "array([1, 1, 1], dtype=int64)"
      ]
     },
     "execution_count": 22,
     "metadata": {},
     "output_type": "execute_result"
    }
   ],
   "source": [
    "np.argmax([[1, 2, 3], [4, 5, 6]], axis = 0)"
   ]
  },
  {
   "cell_type": "code",
   "execution_count": 23,
   "id": "4b4f4d95",
   "metadata": {},
   "outputs": [
    {
     "data": {
      "text/plain": [
       "torch.float32"
      ]
     },
     "execution_count": 23,
     "metadata": {},
     "output_type": "execute_result"
    }
   ],
   "source": [
    "X_train_torch.dtype"
   ]
  },
  {
   "cell_type": "code",
   "execution_count": 26,
   "id": "7bcd5113",
   "metadata": {},
   "outputs": [],
   "source": [
    "model_torch = torch.nn.Sequential(\n",
    "    torch.nn.Linear(28*28, 100),\n",
    "    torch.nn.ReLU(),\n",
    "    torch.nn.Linear(100, 10),\n",
    "    #torch.nn.Softmax(dim = 1)\n",
    ")\n",
    "\n",
    "weights_data_torch = []\n",
    "\n",
    "optimizer_torch = torch.optim.Adam(model_torch.parameters(), lr=1e-3)\n",
    "\n",
    "loss_torch = torch.nn.CrossEntropyLoss()\n",
    "\n",
    "history_torch = train_torch(model_torch, X_train_torch, y_train_torch, X_test_torch, y_test_torch, optimizer_torch, loss_torch, 50, 4096)"
   ]
  },
  {
   "cell_type": "code",
   "execution_count": 25,
   "id": "bc9f425f",
   "metadata": {},
   "outputs": [
    {
     "data": {
      "image/png": "[encoded data removed]",
      "text/plain": [
       "<Figure size 432x288 with 1 Axes>"
      ]
     },
     "metadata": {
      "needs_background": "light"
     },
     "output_type": "display_data"
    },
    {
     "data": {
      "image/png": "[encoded data removed]",
      "text/plain": [
       "<Figure size 432x288 with 1 Axes>"
      ]
     },
     "metadata": {
      "needs_background": "light"
     },
     "output_type": "display_data"
    },
    {
     "data": {
      "image/png": "[encoded data removed]",
      "text/plain": [
       "<Figure size 432x288 with 1 Axes>"
      ]
     },
     "metadata": {
      "needs_background": "light"
     },
     "output_type": "display_data"
    }
   ],
   "source": [
    "for key, value in history_torch['train'].items():\n",
    "    plt.plot(value)\n",
    "    plt.title(key)\n",
    "    plt.show()"
   ]
  }
 ],
 "metadata": {
  "kernelspec": {
   "display_name": "Python 3",
   "language": "python",
   "name": "python3"
  },
  "language_info": {
   "codemirror_mode": {
    "name": "ipython",
    "version": 3
   },
   "file_extension": ".py",
   "mimetype": "text/x-python",
   "name": "python",
   "nbconvert_exporter": "python",
   "pygments_lexer": "ipython3",
   "version": "3.10.4"
  },
  "vscode": {
   "interpreter": {
    "hash": "2bbf79ea567ebf64b92b9cf68f2b08a0cf8db5ff8a7f29f56d99d802810464d9"
   }
  }
 },
 "nbformat": 4,
 "nbformat_minor": 5
}
